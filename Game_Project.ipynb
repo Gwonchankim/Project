{
  "nbformat": 4,
  "nbformat_minor": 0,
  "metadata": {
    "colab": {
      "name": "Untitled6.ipynb",
      "provenance": [],
      "collapsed_sections": []
    },
    "kernelspec": {
      "name": "python3",
      "display_name": "Python 3"
    },
    "language_info": {
      "name": "python"
    }
  },
  "cells": [
    {
      "cell_type": "code",
      "metadata": {
        "colab": {
          "resources": {
            "http://localhost:8080/nbextensions/google.colab/files.js": {
              "data": "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",
              "ok": true,
              "headers": [
                [
                  "content-type",
                  "application/javascript"
                ]
              ],
              "status": 200,
              "status_text": ""
            }
          },
          "base_uri": "https://localhost:8080/",
          "height": 75
        },
        "id": "XXJ2cVQUrzN-",
        "outputId": "a886daa8-2566-429c-dffb-f272ea332bd3"
      },
      "source": [
        "from google.colab import files\n",
        "uploaded = files.upload()"
      ],
      "execution_count": 1,
      "outputs": [
        {
          "output_type": "display_data",
          "data": {
            "text/html": [
              "\n",
              "     <input type=\"file\" id=\"files-32483173-1011-43ea-9a86-f37fbe1f6b9a\" name=\"files[]\" multiple disabled\n",
              "        style=\"border:none\" />\n",
              "     <output id=\"result-32483173-1011-43ea-9a86-f37fbe1f6b9a\">\n",
              "      Upload widget is only available when the cell has been executed in the\n",
              "      current browser session. Please rerun this cell to enable.\n",
              "      </output>\n",
              "      <script src=\"/nbextensions/google.colab/files.js\"></script> "
            ],
            "text/plain": [
              "<IPython.core.display.HTML object>"
            ]
          },
          "metadata": {
            "tags": []
          }
        },
        {
          "output_type": "stream",
          "text": [
            "Saving vgames2.csv to vgames2 (1).csv\n"
          ],
          "name": "stdout"
        }
      ]
    },
    {
      "cell_type": "code",
      "metadata": {
        "colab": {
          "base_uri": "https://localhost:8080/"
        },
        "id": "_sJbtqiwdLJc",
        "outputId": "86d6e569-c46e-4b02-ade2-3de96a27345b"
      },
      "source": [
        "import pandas as pd\n",
        "import numpy as np\n",
        "import io\n",
        "\n",
        "#데이터 불러오기\n",
        "df = pd.read_csv(io.BytesIO(uploaded['vgames2.csv']))\n",
        "df = df.dropna(axis=0)\n",
        "df['Year'] = df['Year'].astype(int)\n",
        "\n",
        "#중복된 게임명 제거\n",
        "df = df.drop_duplicates(['Name'])\n",
        "df.iloc[:12]\n",
        "df.shape"
      ],
      "execution_count": 27,
      "outputs": [
        {
          "output_type": "execute_result",
          "data": {
            "text/plain": [
              "(11410, 9)"
            ]
          },
          "metadata": {
            "tags": []
          },
          "execution_count": 27
        }
      ]
    },
    {
      "cell_type": "code",
      "metadata": {
        "id": "bA_fL9h5kkrX"
      },
      "source": [
        "#Sales 데이터의 단위는 Million, 따라서 K, M 지우고 단위 변환\n",
        "\n",
        "df.NA_Sales = (df.NA_Sales.replace(r'[KM]+$', '', regex=True).astype(float) * \\\n",
        "           df.NA_Sales.str.extract(r'[\\d\\.]+([KM]+)', expand=False)\n",
        "           .fillna(1)\n",
        "           .replace(['K','M'], [10**-3, 1]).astype(int))\n",
        " \n",
        "df.EU_Sales = (df.EU_Sales.replace(r'[KM]+$', '', regex=True).astype(float) * \\\n",
        "           df.EU_Sales.str.extract(r'[\\d\\.]+([KM]+)', expand=False)\n",
        "           .fillna(1)\n",
        "           .replace(['K','M'], [10**-3, 1]).astype(int))\n",
        " \n",
        "df.JP_Sales = (df.JP_Sales.replace(r'[KM]+$', '', regex=True).astype(float) * \\\n",
        "           df.JP_Sales.str.extract(r'[\\d\\.]+([KM]+)', expand=False)\n",
        "           .fillna(1)\n",
        "           .replace(['K','M'], [10**-3, 1]).astype(int))\n",
        "df.Other_Sales = (df.Other_Sales.replace(r'[KM]+$', '', regex=True).astype(float) * \\\n",
        "           df.Other_Sales.str.extract(r'[\\d\\.]+([KM]+)', expand=False)\n",
        "           .fillna(1)\n",
        "           .replace(['K','M'], [10**-3, 1]).astype(int))\n",
        "\n"
      ],
      "execution_count": 28,
      "outputs": []
    },
    {
      "cell_type": "code",
      "metadata": {
        "colab": {
          "base_uri": "https://localhost:8080/",
          "height": 640
        },
        "id": "sTW4pKDE6v_B",
        "outputId": "96de6f52-f612-4725-d71b-6477ad716348"
      },
      "source": [
        "error = df[df['Year'] < 1900]\n",
        "error"
      ],
      "execution_count": 30,
      "outputs": [
        {
          "output_type": "execute_result",
          "data": {
            "text/html": [
              "<div>\n",
              "<style scoped>\n",
              "    .dataframe tbody tr th:only-of-type {\n",
              "        vertical-align: middle;\n",
              "    }\n",
              "\n",
              "    .dataframe tbody tr th {\n",
              "        vertical-align: top;\n",
              "    }\n",
              "\n",
              "    .dataframe thead th {\n",
              "        text-align: right;\n",
              "    }\n",
              "</style>\n",
              "<table border=\"1\" class=\"dataframe\">\n",
              "  <thead>\n",
              "    <tr style=\"text-align: right;\">\n",
              "      <th></th>\n",
              "      <th>Name</th>\n",
              "      <th>Publisher</th>\n",
              "      <th>Platform</th>\n",
              "      <th>Year</th>\n",
              "      <th>Genre</th>\n",
              "      <th>NA_Sales</th>\n",
              "      <th>EU_Sales</th>\n",
              "      <th>JP_Sales</th>\n",
              "      <th>Other_Sales</th>\n",
              "    </tr>\n",
              "  </thead>\n",
              "  <tbody>\n",
              "    <tr>\n",
              "      <th>0</th>\n",
              "      <td>Brothers in Arms: Furious 4</td>\n",
              "      <td>Gearbox Software</td>\n",
              "      <td>X360</td>\n",
              "      <td>0</td>\n",
              "      <td>Shooter</td>\n",
              "      <td>0.01</td>\n",
              "      <td>0.00</td>\n",
              "      <td>0.00</td>\n",
              "      <td>0.00</td>\n",
              "    </tr>\n",
              "    <tr>\n",
              "      <th>2</th>\n",
              "      <td>Trade &amp; Battle: Card Hero</td>\n",
              "      <td>Nintendo</td>\n",
              "      <td>GB</td>\n",
              "      <td>0</td>\n",
              "      <td>Strategy</td>\n",
              "      <td>0.00</td>\n",
              "      <td>0.00</td>\n",
              "      <td>0.20</td>\n",
              "      <td>0.00</td>\n",
              "    </tr>\n",
              "    <tr>\n",
              "      <th>3</th>\n",
              "      <td>Strider 2</td>\n",
              "      <td>Virgin Interactive</td>\n",
              "      <td>PS</td>\n",
              "      <td>0</td>\n",
              "      <td>Platform</td>\n",
              "      <td>0.05</td>\n",
              "      <td>0.03</td>\n",
              "      <td>0.00</td>\n",
              "      <td>0.01</td>\n",
              "    </tr>\n",
              "    <tr>\n",
              "      <th>4</th>\n",
              "      <td>Point Blank 3</td>\n",
              "      <td>Namco Bandai Games</td>\n",
              "      <td>PS</td>\n",
              "      <td>0</td>\n",
              "      <td>Shooter</td>\n",
              "      <td>0.01</td>\n",
              "      <td>0.01</td>\n",
              "      <td>0.00</td>\n",
              "      <td>0.00</td>\n",
              "    </tr>\n",
              "    <tr>\n",
              "      <th>5</th>\n",
              "      <td>SplashDown</td>\n",
              "      <td>Atari</td>\n",
              "      <td>PS2</td>\n",
              "      <td>1</td>\n",
              "      <td>Racing</td>\n",
              "      <td>0.34</td>\n",
              "      <td>0.27</td>\n",
              "      <td>0.00</td>\n",
              "      <td>0.09</td>\n",
              "    </tr>\n",
              "    <tr>\n",
              "      <th>...</th>\n",
              "      <td>...</td>\n",
              "      <td>...</td>\n",
              "      <td>...</td>\n",
              "      <td>...</td>\n",
              "      <td>...</td>\n",
              "      <td>...</td>\n",
              "      <td>...</td>\n",
              "      <td>...</td>\n",
              "      <td>...</td>\n",
              "    </tr>\n",
              "    <tr>\n",
              "      <th>97</th>\n",
              "      <td>Treasures of the Deep</td>\n",
              "      <td>Namco Bandai Games</td>\n",
              "      <td>PS</td>\n",
              "      <td>97</td>\n",
              "      <td>Action</td>\n",
              "      <td>0.10</td>\n",
              "      <td>0.07</td>\n",
              "      <td>0.00</td>\n",
              "      <td>0.01</td>\n",
              "    </tr>\n",
              "    <tr>\n",
              "      <th>98</th>\n",
              "      <td>AeroFighters Assault</td>\n",
              "      <td>Video System</td>\n",
              "      <td>N64</td>\n",
              "      <td>97</td>\n",
              "      <td>Action</td>\n",
              "      <td>0.15</td>\n",
              "      <td>0.04</td>\n",
              "      <td>0.00</td>\n",
              "      <td>0.00</td>\n",
              "    </tr>\n",
              "    <tr>\n",
              "      <th>99</th>\n",
              "      <td>Glover</td>\n",
              "      <td>Hasbro Interactive</td>\n",
              "      <td>N64</td>\n",
              "      <td>98</td>\n",
              "      <td>Platform</td>\n",
              "      <td>0.72</td>\n",
              "      <td>0.17</td>\n",
              "      <td>0.00</td>\n",
              "      <td>0.01</td>\n",
              "    </tr>\n",
              "    <tr>\n",
              "      <th>100</th>\n",
              "      <td>S.C.A.R.S</td>\n",
              "      <td>Ubisoft</td>\n",
              "      <td>PS</td>\n",
              "      <td>98</td>\n",
              "      <td>Racing</td>\n",
              "      <td>0.05</td>\n",
              "      <td>0.03</td>\n",
              "      <td>0.00</td>\n",
              "      <td>0.01</td>\n",
              "    </tr>\n",
              "    <tr>\n",
              "      <th>101</th>\n",
              "      <td>Super Robot Taisen F Kanketsuhen</td>\n",
              "      <td>Banpresto</td>\n",
              "      <td>SAT</td>\n",
              "      <td>98</td>\n",
              "      <td>Strategy</td>\n",
              "      <td>0.00</td>\n",
              "      <td>0.00</td>\n",
              "      <td>0.55</td>\n",
              "      <td>0.00</td>\n",
              "    </tr>\n",
              "  </tbody>\n",
              "</table>\n",
              "<p>100 rows × 9 columns</p>\n",
              "</div>"
            ],
            "text/plain": [
              "                                 Name  ... Other_Sales\n",
              "0         Brothers in Arms: Furious 4  ...        0.00\n",
              "2           Trade & Battle: Card Hero  ...        0.00\n",
              "3                           Strider 2  ...        0.01\n",
              "4                       Point Blank 3  ...        0.00\n",
              "5                          SplashDown  ...        0.09\n",
              "..                                ...  ...         ...\n",
              "97              Treasures of the Deep  ...        0.01\n",
              "98               AeroFighters Assault  ...        0.00\n",
              "99                             Glover  ...        0.01\n",
              "100                         S.C.A.R.S  ...        0.01\n",
              "101  Super Robot Taisen F Kanketsuhen  ...        0.00\n",
              "\n",
              "[100 rows x 9 columns]"
            ]
          },
          "metadata": {
            "tags": []
          },
          "execution_count": 30
        }
      ]
    },
    {
      "cell_type": "code",
      "metadata": {
        "id": "GhmSy_boY9Ej",
        "colab": {
          "base_uri": "https://localhost:8080/",
          "height": 672
        },
        "outputId": "4b5d00ae-2222-4995-939c-8139d7517f28"
      },
      "source": [
        "#불분명한 연도 제거\n",
        "df = df[df['Year'] > 1000]\n",
        "df"
      ],
      "execution_count": 31,
      "outputs": [
        {
          "output_type": "execute_result",
          "data": {
            "text/html": [
              "<div>\n",
              "<style scoped>\n",
              "    .dataframe tbody tr th:only-of-type {\n",
              "        vertical-align: middle;\n",
              "    }\n",
              "\n",
              "    .dataframe tbody tr th {\n",
              "        vertical-align: top;\n",
              "    }\n",
              "\n",
              "    .dataframe thead th {\n",
              "        text-align: right;\n",
              "    }\n",
              "</style>\n",
              "<table border=\"1\" class=\"dataframe\">\n",
              "  <thead>\n",
              "    <tr style=\"text-align: right;\">\n",
              "      <th></th>\n",
              "      <th>Name</th>\n",
              "      <th>Publisher</th>\n",
              "      <th>Platform</th>\n",
              "      <th>Year</th>\n",
              "      <th>Genre</th>\n",
              "      <th>NA_Sales</th>\n",
              "      <th>EU_Sales</th>\n",
              "      <th>JP_Sales</th>\n",
              "      <th>Other_Sales</th>\n",
              "    </tr>\n",
              "  </thead>\n",
              "  <tbody>\n",
              "    <tr>\n",
              "      <th>102</th>\n",
              "      <td>Air-Sea Battle</td>\n",
              "      <td>Atari</td>\n",
              "      <td>2600</td>\n",
              "      <td>1977</td>\n",
              "      <td>Shooter</td>\n",
              "      <td>0.91</td>\n",
              "      <td>0.06</td>\n",
              "      <td>0.00</td>\n",
              "      <td>0.01</td>\n",
              "    </tr>\n",
              "    <tr>\n",
              "      <th>103</th>\n",
              "      <td>Indy 500</td>\n",
              "      <td>Atari</td>\n",
              "      <td>2600</td>\n",
              "      <td>1977</td>\n",
              "      <td>Racing</td>\n",
              "      <td>0.26</td>\n",
              "      <td>0.01</td>\n",
              "      <td>0.00</td>\n",
              "      <td>0.00</td>\n",
              "    </tr>\n",
              "    <tr>\n",
              "      <th>104</th>\n",
              "      <td>Combat</td>\n",
              "      <td>Atari</td>\n",
              "      <td>2600</td>\n",
              "      <td>1977</td>\n",
              "      <td>Action</td>\n",
              "      <td>1.17</td>\n",
              "      <td>0.07</td>\n",
              "      <td>0.00</td>\n",
              "      <td>0.01</td>\n",
              "    </tr>\n",
              "    <tr>\n",
              "      <th>105</th>\n",
              "      <td>Home Run</td>\n",
              "      <td>Atari</td>\n",
              "      <td>2600</td>\n",
              "      <td>1978</td>\n",
              "      <td>Sports</td>\n",
              "      <td>0.14</td>\n",
              "      <td>0.01</td>\n",
              "      <td>0.00</td>\n",
              "      <td>0.00</td>\n",
              "    </tr>\n",
              "    <tr>\n",
              "      <th>106</th>\n",
              "      <td>Super Breakout</td>\n",
              "      <td>Atari</td>\n",
              "      <td>2600</td>\n",
              "      <td>1978</td>\n",
              "      <td>Puzzle</td>\n",
              "      <td>0.41</td>\n",
              "      <td>0.03</td>\n",
              "      <td>0.00</td>\n",
              "      <td>0.00</td>\n",
              "    </tr>\n",
              "    <tr>\n",
              "      <th>...</th>\n",
              "      <td>...</td>\n",
              "      <td>...</td>\n",
              "      <td>...</td>\n",
              "      <td>...</td>\n",
              "      <td>...</td>\n",
              "      <td>...</td>\n",
              "      <td>...</td>\n",
              "      <td>...</td>\n",
              "      <td>...</td>\n",
              "    </tr>\n",
              "    <tr>\n",
              "      <th>16590</th>\n",
              "      <td>Hangman</td>\n",
              "      <td>Atari</td>\n",
              "      <td>2600</td>\n",
              "      <td>2017</td>\n",
              "      <td>Puzzle</td>\n",
              "      <td>0.00</td>\n",
              "      <td>0.02</td>\n",
              "      <td>0.00</td>\n",
              "      <td>0.00</td>\n",
              "    </tr>\n",
              "    <tr>\n",
              "      <th>16592</th>\n",
              "      <td>Brothers Conflict: Precious Baby</td>\n",
              "      <td>Idea Factory</td>\n",
              "      <td>PSV</td>\n",
              "      <td>2017</td>\n",
              "      <td>Action</td>\n",
              "      <td>0.00</td>\n",
              "      <td>0.00</td>\n",
              "      <td>0.01</td>\n",
              "      <td>0.00</td>\n",
              "    </tr>\n",
              "    <tr>\n",
              "      <th>16593</th>\n",
              "      <td>Phantasy Star Online 2 Episode 4: Deluxe Package</td>\n",
              "      <td>Sega</td>\n",
              "      <td>PS4</td>\n",
              "      <td>2017</td>\n",
              "      <td>Role-Playing</td>\n",
              "      <td>0.00</td>\n",
              "      <td>0.00</td>\n",
              "      <td>0.03</td>\n",
              "      <td>0.00</td>\n",
              "    </tr>\n",
              "    <tr>\n",
              "      <th>16596</th>\n",
              "      <td>Drake of the 99 Dragons</td>\n",
              "      <td>Unknown</td>\n",
              "      <td>XB</td>\n",
              "      <td>2018</td>\n",
              "      <td>Shooter</td>\n",
              "      <td>0.05</td>\n",
              "      <td>0.01</td>\n",
              "      <td>0.00</td>\n",
              "      <td>0.00</td>\n",
              "    </tr>\n",
              "    <tr>\n",
              "      <th>16597</th>\n",
              "      <td>Imagine: Makeup Artist</td>\n",
              "      <td>Ubisoft</td>\n",
              "      <td>DS</td>\n",
              "      <td>2020</td>\n",
              "      <td>Simulation</td>\n",
              "      <td>0.27</td>\n",
              "      <td>0.00</td>\n",
              "      <td>0.00</td>\n",
              "      <td>0.02</td>\n",
              "    </tr>\n",
              "  </tbody>\n",
              "</table>\n",
              "<p>11310 rows × 9 columns</p>\n",
              "</div>"
            ],
            "text/plain": [
              "                                                   Name  ... Other_Sales\n",
              "102                                      Air-Sea Battle  ...        0.01\n",
              "103                                            Indy 500  ...        0.00\n",
              "104                                              Combat  ...        0.01\n",
              "105                                            Home Run  ...        0.00\n",
              "106                                      Super Breakout  ...        0.00\n",
              "...                                                 ...  ...         ...\n",
              "16590                                           Hangman  ...        0.00\n",
              "16592                  Brothers Conflict: Precious Baby  ...        0.00\n",
              "16593  Phantasy Star Online 2 Episode 4: Deluxe Package  ...        0.00\n",
              "16596                           Drake of the 99 Dragons  ...        0.00\n",
              "16597                            Imagine: Makeup Artist  ...        0.02\n",
              "\n",
              "[11310 rows x 9 columns]"
            ]
          },
          "metadata": {
            "tags": []
          },
          "execution_count": 31
        }
      ]
    },
    {
      "cell_type": "markdown",
      "metadata": {
        "id": "WGPjXRGaxohL"
      },
      "source": [
        "1 지역에 따라서 선호하는 게임 장르가 다를까?"
      ]
    },
    {
      "cell_type": "code",
      "metadata": {
        "id": "PKvwD_G4XRfX"
      },
      "source": [
        "#1 지역에 따라서 선호하는 게임 장르가 다를까?\n",
        "import pandas as pd\n",
        "import numpy as np\n",
        "import matplotlib.pyplot as plt\n",
        "import seaborn\n",
        "\n",
        "%matplotlib inline"
      ],
      "execution_count": 36,
      "outputs": []
    },
    {
      "cell_type": "code",
      "metadata": {
        "colab": {
          "base_uri": "https://localhost:8080/",
          "height": 316
        },
        "id": "eC1znTAwasMD",
        "outputId": "59b2479f-0033-4ed3-a398-70044ddf471b"
      },
      "source": [
        "#전체 지역별 장르 선호도\n",
        "df1 = df.drop(['Year'], axis=1)\n",
        "df1.groupby(\"Genre\").sum()\n",
        "\n",
        "plt.rcParams[\"figure.figsize\"] = (20,8)\n",
        "compare_plot = df1.groupby(\"Genre\").sum().plot(kind='barh')\n",
        "compare_plot.set_xlabel(\"Sales\")\n",
        "compare_plot.set_ylabel(\"Genre\")"
      ],
      "execution_count": 37,
      "outputs": [
        {
          "output_type": "execute_result",
          "data": {
            "text/plain": [
              "Text(0, 0.5, 'Genre')"
            ]
          },
          "metadata": {
            "tags": []
          },
          "execution_count": 37
        },
        {
          "output_type": "display_data",
          "data": {
            "image/png": "[encoded data removed]",
            "text/plain": [
              "<Figure size 1440x576 with 1 Axes>"
            ]
          },
          "metadata": {
            "tags": [],
            "needs_background": "light"
          }
        }
      ]
    },
    {
      "cell_type": "code",
      "metadata": {
        "colab": {
          "base_uri": "https://localhost:8080/",
          "height": 316
        },
        "id": "pL_T_BR2YaLV",
        "outputId": "93654cad-64d9-43d8-852d-87672913d1d0"
      },
      "source": [
        "#1900년대 선호 장르\n",
        "df_year1 = df\n",
        "df_year1 = df_year1[df_year1['Year'].between(1977, 1999)]\n",
        "df_year1 = df_year1.drop(['Year'], axis=1)\n",
        "region_year1_plot = df_year1.groupby(\"Genre\").sum().plot(kind='barh')\n",
        "region_year1_plot.set_xlabel(\"Sales\")\n",
        "region_year1_plot.set_ylabel(\"Genre\")"
      ],
      "execution_count": 38,
      "outputs": [
        {
          "output_type": "execute_result",
          "data": {
            "text/plain": [
              "Text(0, 0.5, 'Genre')"
            ]
          },
          "metadata": {
            "tags": []
          },
          "execution_count": 38
        },
        {
          "output_type": "display_data",
          "data": {
            "image/png": "[encoded data removed]",
            "text/plain": [
              "<Figure size 1440x576 with 1 Axes>"
            ]
          },
          "metadata": {
            "tags": [],
            "needs_background": "light"
          }
        }
      ]
    },
    {
      "cell_type": "code",
      "metadata": {
        "colab": {
          "base_uri": "https://localhost:8080/",
          "height": 316
        },
        "id": "fagWvcHPYkkD",
        "outputId": "0fb410ef-a7bc-478f-f505-7b2a08afe300"
      },
      "source": [
        "#2000년대 선호 장르\n",
        "df_year2 = df\n",
        "df_year2 = df_year2[df_year2['Year'].between(2000, 2009)]\n",
        "df_year2 = df_year2.drop(['Year'], axis=1)\n",
        "region_year2_plot = df_year2.groupby(\"Genre\").sum().plot(kind='barh')\n",
        "region_year2_plot.set_xlabel(\"Sales\")\n",
        "region_year2_plot.set_ylabel(\"Genre\")"
      ],
      "execution_count": 39,
      "outputs": [
        {
          "output_type": "execute_result",
          "data": {
            "text/plain": [
              "Text(0, 0.5, 'Genre')"
            ]
          },
          "metadata": {
            "tags": []
          },
          "execution_count": 39
        },
        {
          "output_type": "display_data",
          "data": {
            "image/png": "[encoded data removed]",
            "text/plain": [
              "<Figure size 1440x576 with 1 Axes>"
            ]
          },
          "metadata": {
            "tags": [],
            "needs_background": "light"
          }
        }
      ]
    },
    {
      "cell_type": "code",
      "metadata": {
        "colab": {
          "base_uri": "https://localhost:8080/",
          "height": 515
        },
        "id": "mfbgfx_jYlim",
        "outputId": "bc9f734e-6788-4ed5-8e11-3ea8fb60bebe"
      },
      "source": [
        "#2010년대 선호 장르\n",
        "df_year3 = df\n",
        "df_year3 = df_year3[df_year3['Year'].between(2010, 2020)]\n",
        "df_year3 = df_year3.drop(['Year'], axis=1)\n",
        "region_year3_plot = df_year3.groupby(\"Genre\").sum().plot(kind='barh')\n",
        "region_year3_plot.set_xlabel(\"Sales\")\n",
        "region_year3_plot.set_ylabel(\"Genre\")"
      ],
      "execution_count": 40,
      "outputs": [
        {
          "output_type": "execute_result",
          "data": {
            "text/plain": [
              "Text(0, 0.5, 'Genre')"
            ]
          },
          "metadata": {
            "tags": []
          },
          "execution_count": 40
        },
        {
          "output_type": "display_data",
          "data": {
            "image/png": "[encoded data removed]",
            "text/plain": [
              "<Figure size 1440x576 with 1 Axes>"
            ]
          },
          "metadata": {
            "tags": [],
            "needs_background": "light"
          }
        }
      ]
    },
    {
      "cell_type": "code",
      "metadata": {
        "colab": {
          "base_uri": "https://localhost:8080/",
          "height": 441
        },
        "id": "a2OKQVqqwtfx",
        "outputId": "58251297-9b73-4e99-9418-ef469e912ccf"
      },
      "source": [
        "#지역별 장르 평균 매출 \n",
        "NA_Sales_Mean = (df.groupby(['Genre'], as_index=False).mean()\n",
        "            .groupby('Genre')['NA_Sales'].mean())\n",
        "EU_Sales_Mean = (df.groupby(['Genre'], as_index=False).mean()\n",
        "            .groupby('Genre')['EU_Sales'].mean())\n",
        "JP_Sales_Mean = (df.groupby(['Genre'], as_index=False).mean()\n",
        "            .groupby('Genre')['JP_Sales'].mean())\n",
        "Other_Sales_Mean = (df.groupby(['Genre'], as_index=False).mean()\n",
        "            .groupby('Genre')['Other_Sales'].mean())\n",
        "Sales_Mean = pd.DataFrame([NA_Sales_Mean, EU_Sales_Mean, JP_Sales_Mean, Other_Sales_Mean])\n",
        "Sales_Mean = Sales_Mean.T\n",
        "Sales_Mean"
      ],
      "execution_count": 41,
      "outputs": [
        {
          "output_type": "execute_result",
          "data": {
            "text/html": [
              "<div>\n",
              "<style scoped>\n",
              "    .dataframe tbody tr th:only-of-type {\n",
              "        vertical-align: middle;\n",
              "    }\n",
              "\n",
              "    .dataframe tbody tr th {\n",
              "        vertical-align: top;\n",
              "    }\n",
              "\n",
              "    .dataframe thead th {\n",
              "        text-align: right;\n",
              "    }\n",
              "</style>\n",
              "<table border=\"1\" class=\"dataframe\">\n",
              "  <thead>\n",
              "    <tr style=\"text-align: right;\">\n",
              "      <th></th>\n",
              "      <th>NA_Sales</th>\n",
              "      <th>EU_Sales</th>\n",
              "      <th>JP_Sales</th>\n",
              "      <th>Other_Sales</th>\n",
              "    </tr>\n",
              "    <tr>\n",
              "      <th>Genre</th>\n",
              "      <th></th>\n",
              "      <th></th>\n",
              "      <th></th>\n",
              "      <th></th>\n",
              "    </tr>\n",
              "  </thead>\n",
              "  <tbody>\n",
              "    <tr>\n",
              "      <th>Action</th>\n",
              "      <td>0.250512</td>\n",
              "      <td>0.132331</td>\n",
              "      <td>0.067969</td>\n",
              "      <td>0.049451</td>\n",
              "    </tr>\n",
              "    <tr>\n",
              "      <th>Adventure</th>\n",
              "      <td>0.077988</td>\n",
              "      <td>0.046731</td>\n",
              "      <td>0.046547</td>\n",
              "      <td>0.011431</td>\n",
              "    </tr>\n",
              "    <tr>\n",
              "      <th>Fighting</th>\n",
              "      <td>0.243659</td>\n",
              "      <td>0.111209</td>\n",
              "      <td>0.125315</td>\n",
              "      <td>0.035927</td>\n",
              "    </tr>\n",
              "    <tr>\n",
              "      <th>Misc</th>\n",
              "      <td>0.213289</td>\n",
              "      <td>0.121151</td>\n",
              "      <td>0.077302</td>\n",
              "      <td>0.038025</td>\n",
              "    </tr>\n",
              "    <tr>\n",
              "      <th>Platform</th>\n",
              "      <td>0.621813</td>\n",
              "      <td>0.263161</td>\n",
              "      <td>0.206494</td>\n",
              "      <td>0.063644</td>\n",
              "    </tr>\n",
              "    <tr>\n",
              "      <th>Puzzle</th>\n",
              "      <td>0.180679</td>\n",
              "      <td>0.091379</td>\n",
              "      <td>0.097243</td>\n",
              "      <td>0.022058</td>\n",
              "    </tr>\n",
              "    <tr>\n",
              "      <th>Racing</th>\n",
              "      <td>0.332625</td>\n",
              "      <td>0.217744</td>\n",
              "      <td>0.070303</td>\n",
              "      <td>0.068865</td>\n",
              "    </tr>\n",
              "    <tr>\n",
              "      <th>Role-Playing</th>\n",
              "      <td>0.201517</td>\n",
              "      <td>0.112206</td>\n",
              "      <td>0.252164</td>\n",
              "      <td>0.032222</td>\n",
              "    </tr>\n",
              "    <tr>\n",
              "      <th>Shooter</th>\n",
              "      <td>0.421731</td>\n",
              "      <td>0.193412</td>\n",
              "      <td>0.035442</td>\n",
              "      <td>0.063088</td>\n",
              "    </tr>\n",
              "    <tr>\n",
              "      <th>Simulation</th>\n",
              "      <td>0.205489</td>\n",
              "      <td>0.128380</td>\n",
              "      <td>0.081885</td>\n",
              "      <td>0.034832</td>\n",
              "    </tr>\n",
              "    <tr>\n",
              "      <th>Sports</th>\n",
              "      <td>0.267337</td>\n",
              "      <td>0.148698</td>\n",
              "      <td>0.083094</td>\n",
              "      <td>0.045479</td>\n",
              "    </tr>\n",
              "    <tr>\n",
              "      <th>Strategy</th>\n",
              "      <td>0.101774</td>\n",
              "      <td>0.066730</td>\n",
              "      <td>0.080974</td>\n",
              "      <td>0.015896</td>\n",
              "    </tr>\n",
              "  </tbody>\n",
              "</table>\n",
              "</div>"
            ],
            "text/plain": [
              "              NA_Sales  EU_Sales  JP_Sales  Other_Sales\n",
              "Genre                                                  \n",
              "Action        0.250512  0.132331  0.067969     0.049451\n",
              "Adventure     0.077988  0.046731  0.046547     0.011431\n",
              "Fighting      0.243659  0.111209  0.125315     0.035927\n",
              "Misc          0.213289  0.121151  0.077302     0.038025\n",
              "Platform      0.621813  0.263161  0.206494     0.063644\n",
              "Puzzle        0.180679  0.091379  0.097243     0.022058\n",
              "Racing        0.332625  0.217744  0.070303     0.068865\n",
              "Role-Playing  0.201517  0.112206  0.252164     0.032222\n",
              "Shooter       0.421731  0.193412  0.035442     0.063088\n",
              "Simulation    0.205489  0.128380  0.081885     0.034832\n",
              "Sports        0.267337  0.148698  0.083094     0.045479\n",
              "Strategy      0.101774  0.066730  0.080974     0.015896"
            ]
          },
          "metadata": {
            "tags": []
          },
          "execution_count": 41
        }
      ]
    },
    {
      "cell_type": "code",
      "metadata": {
        "colab": {
          "base_uri": "https://localhost:8080/",
          "height": 510
        },
        "id": "NFbcnb5yxPEN",
        "outputId": "37f465c6-c85e-46f6-ef63-f21b7ea9ff79"
      },
      "source": [
        "#시각화 그래프 사이즈 조정\n",
        "plt.rcParams[\"figure.figsize\"] = (40,12)\n",
        "\n",
        "#Sales 전체 평균 그래프\n",
        "compare_plot = Sales_Mean.plot(kind='barh')\n",
        "compare_plot.set_xlabel(\"Sales\")\n",
        "compare_plot.set_ylabel(\"Genre\")"
      ],
      "execution_count": 42,
      "outputs": [
        {
          "output_type": "execute_result",
          "data": {
            "text/plain": [
              "Text(0, 0.5, 'Genre')"
            ]
          },
          "metadata": {
            "tags": []
          },
          "execution_count": 42
        },
        {
          "output_type": "display_data",
          "data": {
            "image/png": "[encoded data removed]",
            "text/plain": [
              "<Figure size 2880x864 with 1 Axes>"
            ]
          },
          "metadata": {
            "tags": [],
            "needs_background": "light"
          }
        }
      ]
    },
    {
      "cell_type": "markdown",
      "metadata": {
        "id": "yCutoIgtlvmI"
      },
      "source": [
        "2. 연도별 게임(장르)의 트렌드가 있을까 라는 질문에 대답을 하셔야합니다."
      ]
    },
    {
      "cell_type": "code",
      "metadata": {
        "colab": {
          "base_uri": "https://localhost:8080/",
          "height": 200
        },
        "id": "sFgdL9NFmCmo",
        "outputId": "be467a34-9173-4ac6-de25-52d866b7b013"
      },
      "source": [
        "df2 = df.copy()\n",
        "list_of_my_columns = ['NA_Sales', 'EU_Sales', 'JP_Sales', 'Other_Sales']\n",
        "df2['Total_Sales'] = df[list_of_my_columns].sum(axis=1)\n",
        "df2['Year'] = df2['Year'].astype(int)\n",
        "df2.head()"
      ],
      "execution_count": 43,
      "outputs": [
        {
          "output_type": "execute_result",
          "data": {
            "text/html": [
              "<div>\n",
              "<style scoped>\n",
              "    .dataframe tbody tr th:only-of-type {\n",
              "        vertical-align: middle;\n",
              "    }\n",
              "\n",
              "    .dataframe tbody tr th {\n",
              "        vertical-align: top;\n",
              "    }\n",
              "\n",
              "    .dataframe thead th {\n",
              "        text-align: right;\n",
              "    }\n",
              "</style>\n",
              "<table border=\"1\" class=\"dataframe\">\n",
              "  <thead>\n",
              "    <tr style=\"text-align: right;\">\n",
              "      <th></th>\n",
              "      <th>Name</th>\n",
              "      <th>Publisher</th>\n",
              "      <th>Platform</th>\n",
              "      <th>Year</th>\n",
              "      <th>Genre</th>\n",
              "      <th>NA_Sales</th>\n",
              "      <th>EU_Sales</th>\n",
              "      <th>JP_Sales</th>\n",
              "      <th>Other_Sales</th>\n",
              "      <th>Total_Sales</th>\n",
              "    </tr>\n",
              "  </thead>\n",
              "  <tbody>\n",
              "    <tr>\n",
              "      <th>102</th>\n",
              "      <td>Air-Sea Battle</td>\n",
              "      <td>Atari</td>\n",
              "      <td>2600</td>\n",
              "      <td>1977</td>\n",
              "      <td>Shooter</td>\n",
              "      <td>0.91</td>\n",
              "      <td>0.06</td>\n",
              "      <td>0.0</td>\n",
              "      <td>0.01</td>\n",
              "      <td>0.98</td>\n",
              "    </tr>\n",
              "    <tr>\n",
              "      <th>103</th>\n",
              "      <td>Indy 500</td>\n",
              "      <td>Atari</td>\n",
              "      <td>2600</td>\n",
              "      <td>1977</td>\n",
              "      <td>Racing</td>\n",
              "      <td>0.26</td>\n",
              "      <td>0.01</td>\n",
              "      <td>0.0</td>\n",
              "      <td>0.00</td>\n",
              "      <td>0.27</td>\n",
              "    </tr>\n",
              "    <tr>\n",
              "      <th>104</th>\n",
              "      <td>Combat</td>\n",
              "      <td>Atari</td>\n",
              "      <td>2600</td>\n",
              "      <td>1977</td>\n",
              "      <td>Action</td>\n",
              "      <td>1.17</td>\n",
              "      <td>0.07</td>\n",
              "      <td>0.0</td>\n",
              "      <td>0.01</td>\n",
              "      <td>1.25</td>\n",
              "    </tr>\n",
              "    <tr>\n",
              "      <th>105</th>\n",
              "      <td>Home Run</td>\n",
              "      <td>Atari</td>\n",
              "      <td>2600</td>\n",
              "      <td>1978</td>\n",
              "      <td>Sports</td>\n",
              "      <td>0.14</td>\n",
              "      <td>0.01</td>\n",
              "      <td>0.0</td>\n",
              "      <td>0.00</td>\n",
              "      <td>0.15</td>\n",
              "    </tr>\n",
              "    <tr>\n",
              "      <th>106</th>\n",
              "      <td>Super Breakout</td>\n",
              "      <td>Atari</td>\n",
              "      <td>2600</td>\n",
              "      <td>1978</td>\n",
              "      <td>Puzzle</td>\n",
              "      <td>0.41</td>\n",
              "      <td>0.03</td>\n",
              "      <td>0.0</td>\n",
              "      <td>0.00</td>\n",
              "      <td>0.44</td>\n",
              "    </tr>\n",
              "  </tbody>\n",
              "</table>\n",
              "</div>"
            ],
            "text/plain": [
              "               Name Publisher Platform  ...  JP_Sales Other_Sales  Total_Sales\n",
              "102  Air-Sea Battle     Atari     2600  ...       0.0        0.01         0.98\n",
              "103        Indy 500     Atari     2600  ...       0.0        0.00         0.27\n",
              "104          Combat     Atari     2600  ...       0.0        0.01         1.25\n",
              "105        Home Run     Atari     2600  ...       0.0        0.00         0.15\n",
              "106  Super Breakout     Atari     2600  ...       0.0        0.00         0.44\n",
              "\n",
              "[5 rows x 10 columns]"
            ]
          },
          "metadata": {
            "tags": []
          },
          "execution_count": 43
        }
      ]
    },
    {
      "cell_type": "code",
      "metadata": {
        "colab": {
          "base_uri": "https://localhost:8080/",
          "height": 200
        },
        "id": "7iDV4GV5ypkR",
        "outputId": "bf7b9292-28e5-47e6-dcb0-72a219651619"
      },
      "source": [
        "cross_df2 = pd.crosstab(df2.Genre, df2.Year)\n",
        "cross_df = cross_df2.T\n",
        "cross_df['Top'] = cross_df.idxmax(axis=1)\n",
        "cross_df['Count'] = cross_df.max(axis=1)\n",
        "cross_df = cross_df.reset_index()\n",
        "cross_df.head()"
      ],
      "execution_count": 44,
      "outputs": [
        {
          "output_type": "execute_result",
          "data": {
            "text/html": [
              "<div>\n",
              "<style scoped>\n",
              "    .dataframe tbody tr th:only-of-type {\n",
              "        vertical-align: middle;\n",
              "    }\n",
              "\n",
              "    .dataframe tbody tr th {\n",
              "        vertical-align: top;\n",
              "    }\n",
              "\n",
              "    .dataframe thead th {\n",
              "        text-align: right;\n",
              "    }\n",
              "</style>\n",
              "<table border=\"1\" class=\"dataframe\">\n",
              "  <thead>\n",
              "    <tr style=\"text-align: right;\">\n",
              "      <th>Genre</th>\n",
              "      <th>Year</th>\n",
              "      <th>Action</th>\n",
              "      <th>Adventure</th>\n",
              "      <th>Fighting</th>\n",
              "      <th>Misc</th>\n",
              "      <th>Platform</th>\n",
              "      <th>Puzzle</th>\n",
              "      <th>Racing</th>\n",
              "      <th>Role-Playing</th>\n",
              "      <th>Shooter</th>\n",
              "      <th>Simulation</th>\n",
              "      <th>Sports</th>\n",
              "      <th>Strategy</th>\n",
              "      <th>Top</th>\n",
              "      <th>Count</th>\n",
              "    </tr>\n",
              "  </thead>\n",
              "  <tbody>\n",
              "    <tr>\n",
              "      <th>0</th>\n",
              "      <td>1977</td>\n",
              "      <td>1</td>\n",
              "      <td>0</td>\n",
              "      <td>0</td>\n",
              "      <td>0</td>\n",
              "      <td>0</td>\n",
              "      <td>0</td>\n",
              "      <td>1</td>\n",
              "      <td>0</td>\n",
              "      <td>1</td>\n",
              "      <td>0</td>\n",
              "      <td>0</td>\n",
              "      <td>0</td>\n",
              "      <td>Action</td>\n",
              "      <td>1</td>\n",
              "    </tr>\n",
              "    <tr>\n",
              "      <th>1</th>\n",
              "      <td>1978</td>\n",
              "      <td>1</td>\n",
              "      <td>0</td>\n",
              "      <td>0</td>\n",
              "      <td>0</td>\n",
              "      <td>0</td>\n",
              "      <td>2</td>\n",
              "      <td>0</td>\n",
              "      <td>0</td>\n",
              "      <td>1</td>\n",
              "      <td>0</td>\n",
              "      <td>1</td>\n",
              "      <td>0</td>\n",
              "      <td>Puzzle</td>\n",
              "      <td>2</td>\n",
              "    </tr>\n",
              "    <tr>\n",
              "      <th>2</th>\n",
              "      <td>1979</td>\n",
              "      <td>1</td>\n",
              "      <td>0</td>\n",
              "      <td>0</td>\n",
              "      <td>0</td>\n",
              "      <td>0</td>\n",
              "      <td>0</td>\n",
              "      <td>0</td>\n",
              "      <td>0</td>\n",
              "      <td>0</td>\n",
              "      <td>0</td>\n",
              "      <td>0</td>\n",
              "      <td>0</td>\n",
              "      <td>Action</td>\n",
              "      <td>1</td>\n",
              "    </tr>\n",
              "    <tr>\n",
              "      <th>3</th>\n",
              "      <td>1980</td>\n",
              "      <td>3</td>\n",
              "      <td>1</td>\n",
              "      <td>1</td>\n",
              "      <td>4</td>\n",
              "      <td>0</td>\n",
              "      <td>0</td>\n",
              "      <td>1</td>\n",
              "      <td>0</td>\n",
              "      <td>2</td>\n",
              "      <td>0</td>\n",
              "      <td>1</td>\n",
              "      <td>0</td>\n",
              "      <td>Misc</td>\n",
              "      <td>4</td>\n",
              "    </tr>\n",
              "    <tr>\n",
              "      <th>4</th>\n",
              "      <td>1981</td>\n",
              "      <td>25</td>\n",
              "      <td>0</td>\n",
              "      <td>0</td>\n",
              "      <td>0</td>\n",
              "      <td>3</td>\n",
              "      <td>2</td>\n",
              "      <td>1</td>\n",
              "      <td>0</td>\n",
              "      <td>10</td>\n",
              "      <td>1</td>\n",
              "      <td>4</td>\n",
              "      <td>0</td>\n",
              "      <td>Action</td>\n",
              "      <td>25</td>\n",
              "    </tr>\n",
              "  </tbody>\n",
              "</table>\n",
              "</div>"
            ],
            "text/plain": [
              "Genre  Year  Action  Adventure  Fighting  ...  Sports  Strategy     Top  Count\n",
              "0      1977       1          0         0  ...       0         0  Action      1\n",
              "1      1978       1          0         0  ...       1         0  Puzzle      2\n",
              "2      1979       1          0         0  ...       0         0  Action      1\n",
              "3      1980       3          1         1  ...       1         0    Misc      4\n",
              "4      1981      25          0         0  ...       4         0  Action     25\n",
              "\n",
              "[5 rows x 15 columns]"
            ]
          },
          "metadata": {
            "tags": []
          },
          "execution_count": 44
        }
      ]
    },
    {
      "cell_type": "code",
      "metadata": {
        "colab": {
          "base_uri": "https://localhost:8080/"
        },
        "id": "6TctJ1XUc-pY",
        "outputId": "f40f69db-9804-4925-9b9c-90ccf4ed78bb"
      },
      "source": [
        "from scipy.stats import chi2_contingency\n",
        "\n",
        "obs = pd.crosstab(cross_df['Year'],cross_df['Count'])\n",
        "print(chi2_contingency(obs, correction = False))\n",
        "print(chi2_contingency(obs, correction = True))\n",
        "\n",
        "#귀무가설 : Year & 연도별 Top 장르가 연관이 없다\n",
        "#대립가설 : Year & 연도별 Top 장르가 연관이 없다\n",
        "#신뢰구간 : 95%\n",
        "#pvalue: 0.272로 귀무가설 채택 연관이 없다"
      ],
      "execution_count": 45,
      "outputs": [
        {
          "output_type": "stream",
          "text": [
            "(1204.0, 0.27875276482109757, 1176, array([[0.11627907, 0.02325581, 0.02325581, ..., 0.02325581, 0.04651163,\n",
            "        0.02325581],\n",
            "       [0.11627907, 0.02325581, 0.02325581, ..., 0.02325581, 0.04651163,\n",
            "        0.02325581],\n",
            "       [0.11627907, 0.02325581, 0.02325581, ..., 0.02325581, 0.04651163,\n",
            "        0.02325581],\n",
            "       ...,\n",
            "       [0.11627907, 0.02325581, 0.02325581, ..., 0.02325581, 0.04651163,\n",
            "        0.02325581],\n",
            "       [0.11627907, 0.02325581, 0.02325581, ..., 0.02325581, 0.04651163,\n",
            "        0.02325581],\n",
            "       [0.11627907, 0.02325581, 0.02325581, ..., 0.02325581, 0.04651163,\n",
            "        0.02325581]]))\n",
            "(1204.0, 0.27875276482109757, 1176, array([[0.11627907, 0.02325581, 0.02325581, ..., 0.02325581, 0.04651163,\n",
            "        0.02325581],\n",
            "       [0.11627907, 0.02325581, 0.02325581, ..., 0.02325581, 0.04651163,\n",
            "        0.02325581],\n",
            "       [0.11627907, 0.02325581, 0.02325581, ..., 0.02325581, 0.04651163,\n",
            "        0.02325581],\n",
            "       ...,\n",
            "       [0.11627907, 0.02325581, 0.02325581, ..., 0.02325581, 0.04651163,\n",
            "        0.02325581],\n",
            "       [0.11627907, 0.02325581, 0.02325581, ..., 0.02325581, 0.04651163,\n",
            "        0.02325581],\n",
            "       [0.11627907, 0.02325581, 0.02325581, ..., 0.02325581, 0.04651163,\n",
            "        0.02325581]]))\n"
          ],
          "name": "stdout"
        }
      ]
    },
    {
      "cell_type": "code",
      "metadata": {
        "colab": {
          "base_uri": "https://localhost:8080/",
          "height": 517
        },
        "id": "EwtF_jdoQPHT",
        "outputId": "76aad651-736d-4a17-9088-b154dac16fe9"
      },
      "source": [
        "#연도별 출고량에 따른 게임 트렌드\n",
        "import seaborn as sns\n",
        "ax = sns.barplot(x='Year', \n",
        "\n",
        "                  y='Count', \n",
        "\n",
        "                  hue='Top',\n",
        "\n",
        "                  data=cross_df)\n",
        "\n",
        "plt.title('Game Trend with Total Sales from 1997 to 2010', fontsize=20)\n",
        "plt.ylabel('Count', fontsize=14)\n",
        "plt.xlabel('Year', fontsize=14)\n",
        "plt.legend(fontsize=14, loc='best')\n",
        "plt.show()\n"
      ],
      "execution_count": 46,
      "outputs": [
        {
          "output_type": "display_data",
          "data": {
            "image/png": "[encoded data removed]",
            "text/plain": [
              "<Figure size 2880x864 with 1 Axes>"
            ]
          },
          "metadata": {
            "tags": [],
            "needs_background": "light"
          }
        }
      ]
    },
    {
      "cell_type": "markdown",
      "metadata": {
        "id": "Eaazz_kRlx1Q"
      },
      "source": [
        "3. 출고량이 높은 게임에 대한 분석 및 시각화 프로세스"
      ]
    },
    {
      "cell_type": "code",
      "metadata": {
        "colab": {
          "base_uri": "https://localhost:8080/",
          "height": 530
        },
        "id": "B7Yk938knYYf",
        "outputId": "f36aac92-6831-4d5c-8f7a-70c23858acd6"
      },
      "source": [
        "#3.1 플랫폼별 국가 출고량\n",
        "df3 = df2.drop(['Year', 'Total_Sales'], axis=1)\n",
        "df3 = df3.groupby(\"Platform\").sum()\n",
        "year_plot = df3.plot(kind='bar')\n",
        "year_plot.set_xlabel(\"Genre\")\n",
        "year_plot.set_ylabel(\"Platform\")"
      ],
      "execution_count": 49,
      "outputs": [
        {
          "output_type": "execute_result",
          "data": {
            "text/plain": [
              "Text(0, 0.5, 'Platform')"
            ]
          },
          "metadata": {
            "tags": []
          },
          "execution_count": 49
        },
        {
          "output_type": "display_data",
          "data": {
            "image/png": "[encoded data removed]",
            "text/plain": [
              "<Figure size 2880x864 with 1 Axes>"
            ]
          },
          "metadata": {
            "tags": [],
            "needs_background": "light"
          }
        }
      ]
    },
    {
      "cell_type": "code",
      "metadata": {
        "colab": {
          "base_uri": "https://localhost:8080/",
          "height": 230
        },
        "id": "Easc70s8sybi",
        "outputId": "33eec57f-667a-4a0c-f60c-13ef04d0d04e"
      },
      "source": [
        "#3.2 플랫폼별 게임 출고량\n",
        "df3 = df2[['Platform', 'Total_Sales']]\n",
        "df3 = df3.groupby(\"Platform\").sum()\n",
        "df3.head()\n"
      ],
      "execution_count": 50,
      "outputs": [
        {
          "output_type": "execute_result",
          "data": {
            "text/html": [
              "<div>\n",
              "<style scoped>\n",
              "    .dataframe tbody tr th:only-of-type {\n",
              "        vertical-align: middle;\n",
              "    }\n",
              "\n",
              "    .dataframe tbody tr th {\n",
              "        vertical-align: top;\n",
              "    }\n",
              "\n",
              "    .dataframe thead th {\n",
              "        text-align: right;\n",
              "    }\n",
              "</style>\n",
              "<table border=\"1\" class=\"dataframe\">\n",
              "  <thead>\n",
              "    <tr style=\"text-align: right;\">\n",
              "      <th></th>\n",
              "      <th>Total_Sales</th>\n",
              "    </tr>\n",
              "    <tr>\n",
              "      <th>Platform</th>\n",
              "      <th></th>\n",
              "    </tr>\n",
              "  </thead>\n",
              "  <tbody>\n",
              "    <tr>\n",
              "      <th>2600</th>\n",
              "      <td>95.56</td>\n",
              "    </tr>\n",
              "    <tr>\n",
              "      <th>3DO</th>\n",
              "      <td>0.10</td>\n",
              "    </tr>\n",
              "    <tr>\n",
              "      <th>3DS</th>\n",
              "      <td>189.80</td>\n",
              "    </tr>\n",
              "    <tr>\n",
              "      <th>DC</th>\n",
              "      <td>15.37</td>\n",
              "    </tr>\n",
              "    <tr>\n",
              "      <th>DS</th>\n",
              "      <td>649.65</td>\n",
              "    </tr>\n",
              "  </tbody>\n",
              "</table>\n",
              "</div>"
            ],
            "text/plain": [
              "          Total_Sales\n",
              "Platform             \n",
              "2600            95.56\n",
              "3DO              0.10\n",
              "3DS            189.80\n",
              "DC              15.37\n",
              "DS             649.65"
            ]
          },
          "metadata": {
            "tags": []
          },
          "execution_count": 50
        }
      ]
    },
    {
      "cell_type": "code",
      "metadata": {
        "colab": {
          "base_uri": "https://localhost:8080/",
          "height": 516
        },
        "id": "-YY5p7qqqjTb",
        "outputId": "d8e667e0-bb9d-483c-8449-9aa60b2e92f6"
      },
      "source": [
        "year_plot = df3.plot(kind='barh')\n",
        "year_plot.set_xlabel(\"Genre\")\n",
        "year_plot.set_ylabel(\"Sales\")"
      ],
      "execution_count": 51,
      "outputs": [
        {
          "output_type": "execute_result",
          "data": {
            "text/plain": [
              "Text(0, 0.5, 'Sales')"
            ]
          },
          "metadata": {
            "tags": []
          },
          "execution_count": 51
        },
        {
          "output_type": "display_data",
          "data": {
            "image/png": "[encoded data removed]",
            "text/plain": [
              "<Figure size 2880x864 with 1 Axes>"
            ]
          },
          "metadata": {
            "tags": [],
            "needs_background": "light"
          }
        }
      ]
    },
    {
      "cell_type": "code",
      "metadata": {
        "id": "OT-LQf4knVP8"
      },
      "source": [
        "#3.3 Top 100 1900년도 게임\n",
        "df_sort = df2.sort_values(['Total_Sales'], ascending=False)\n",
        "df_sort1 = df_sort[['Name','Genre','Publisher','Platform','Year','Total_Sales']]\n",
        "df_sort1 = df_sort1[df_sort1['Year'].between(1977, 1999)]\n",
        "df_sort1 = df_sort1.drop(['Year'], axis=1)\n",
        "top1 = df_sort1.iloc[:100]"
      ],
      "execution_count": 158,
      "outputs": []
    },
    {
      "cell_type": "code",
      "metadata": {
        "colab": {
          "base_uri": "https://localhost:8080/",
          "height": 510
        },
        "id": "kUUlM6IhZY-W",
        "outputId": "bc0877ce-3f75-4e28-ec2f-b06010bac6df"
      },
      "source": [
        "#장르별 시각화\n",
        "top1_plot = top1.groupby(\"Genre\").sum().plot(kind='barh')\n",
        "top1_plot.set_xlabel(\"Sales\")\n",
        "top1_plot.set_ylabel(\"Genre\")"
      ],
      "execution_count": 159,
      "outputs": [
        {
          "output_type": "execute_result",
          "data": {
            "text/plain": [
              "Text(0, 0.5, 'Genre')"
            ]
          },
          "metadata": {
            "tags": []
          },
          "execution_count": 159
        },
        {
          "output_type": "display_data",
          "data": {
            "image/png": "[encoded data removed]",
            "text/plain": [
              "<Figure size 2880x864 with 1 Axes>"
            ]
          },
          "metadata": {
            "tags": [],
            "needs_background": "light"
          }
        }
      ]
    },
    {
      "cell_type": "code",
      "metadata": {
        "colab": {
          "base_uri": "https://localhost:8080/",
          "height": 516
        },
        "id": "kzzhSxyE9KVo",
        "outputId": "7444cce2-7c34-43a6-fc20-18643294f59f"
      },
      "source": [
        "#플랫폼별 시각화\n",
        "top1_plot = top1.groupby(\"Platform\").sum().plot(kind='barh')\n",
        "top1_plot.set_xlabel(\"Sales\")\n",
        "top1_plot.set_ylabel(\"Platform\")"
      ],
      "execution_count": 160,
      "outputs": [
        {
          "output_type": "execute_result",
          "data": {
            "text/plain": [
              "Text(0, 0.5, 'Platform')"
            ]
          },
          "metadata": {
            "tags": []
          },
          "execution_count": 160
        },
        {
          "output_type": "display_data",
          "data": {
            "image/png": "[encoded data removed]",
            "text/plain": [
              "<Figure size 2880x864 with 1 Axes>"
            ]
          },
          "metadata": {
            "tags": [],
            "needs_background": "light"
          }
        }
      ]
    },
    {
      "cell_type": "code",
      "metadata": {
        "id": "_XlGP2UvQ0rs"
      },
      "source": [
        "#3.4 Top 100 2000년도 Top 100 게임\n",
        "df_sort = df2.sort_values(['Total_Sales'], ascending=False)\n",
        "df_sort2 = df_sort[['Name','Genre','Publisher','Platform','Year','Total_Sales']]\n",
        "df_sort2 = df_sort2[df_sort2['Year'].between(2000, 2009)]\n",
        "df_sort2 = df_sort2.drop(['Year'], axis=1)\n",
        "top2 = df_sort2.iloc[:100]"
      ],
      "execution_count": 161,
      "outputs": []
    },
    {
      "cell_type": "code",
      "metadata": {
        "colab": {
          "base_uri": "https://localhost:8080/",
          "height": 510
        },
        "id": "DtShoypv837z",
        "outputId": "3409c19e-5eca-4d8d-fca9-e4da07055a87"
      },
      "source": [
        "#장르별 시각화\n",
        "top2_plot = top2.groupby(\"Genre\").sum().plot(kind='barh')\n",
        "top2_plot.set_xlabel(\"Sales\")\n",
        "top2_plot.set_ylabel(\"Genre\")"
      ],
      "execution_count": 162,
      "outputs": [
        {
          "output_type": "execute_result",
          "data": {
            "text/plain": [
              "Text(0, 0.5, 'Genre')"
            ]
          },
          "metadata": {
            "tags": []
          },
          "execution_count": 162
        },
        {
          "output_type": "display_data",
          "data": {
            "image/png": "[encoded data removed]",
            "text/plain": [
              "<Figure size 2880x864 with 1 Axes>"
            ]
          },
          "metadata": {
            "tags": [],
            "needs_background": "light"
          }
        }
      ]
    },
    {
      "cell_type": "code",
      "metadata": {
        "colab": {
          "base_uri": "https://localhost:8080/",
          "height": 516
        },
        "id": "B7LT-6ZQ9VmR",
        "outputId": "cfb18465-150c-4028-84ef-3b6e6e8ce8d5"
      },
      "source": [
        "#플랫폼별 시각화\n",
        "top2_plot = top2.groupby(\"Platform\").sum().plot(kind='barh')\n",
        "top2_plot.set_xlabel(\"Sales\")\n",
        "top2_plot.set_ylabel(\"Platform\")"
      ],
      "execution_count": 163,
      "outputs": [
        {
          "output_type": "execute_result",
          "data": {
            "text/plain": [
              "Text(0, 0.5, 'Platform')"
            ]
          },
          "metadata": {
            "tags": []
          },
          "execution_count": 163
        },
        {
          "output_type": "display_data",
          "data": {
            "image/png": "[encoded data removed]",
            "text/plain": [
              "<Figure size 2880x864 with 1 Axes>"
            ]
          },
          "metadata": {
            "tags": [],
            "needs_background": "light"
          }
        }
      ]
    },
    {
      "cell_type": "code",
      "metadata": {
        "id": "GA4YXLEnUKSC"
      },
      "source": [
        "#3.4 Top 100 2010년도 게임\n",
        "df_sort = df2.sort_values(['Total_Sales'], ascending=False)\n",
        "df_sort3 = df_sort[['Name','Genre','Publisher','Platform','Year','Total_Sales']]\n",
        "df_sort3 = df_sort3[df_sort3['Year'].between(2010, 2020)]\n",
        "df_sort3 = df_sort3.drop(['Year'], axis=1)\n",
        "top3 = df_sort3.iloc[:100]"
      ],
      "execution_count": 164,
      "outputs": []
    },
    {
      "cell_type": "code",
      "metadata": {
        "colab": {
          "base_uri": "https://localhost:8080/",
          "height": 510
        },
        "id": "8F4Sm53d_FJQ",
        "outputId": "26785b8e-0801-49db-959a-0503403d0b8f"
      },
      "source": [
        "#장르별 시각화\n",
        "top3_plot = top3.groupby(\"Genre\").sum().plot(kind='barh')\n",
        "top3_plot.set_xlabel(\"Sales\")\n",
        "top3_plot.set_ylabel(\"Genre\")"
      ],
      "execution_count": 165,
      "outputs": [
        {
          "output_type": "execute_result",
          "data": {
            "text/plain": [
              "Text(0, 0.5, 'Genre')"
            ]
          },
          "metadata": {
            "tags": []
          },
          "execution_count": 165
        },
        {
          "output_type": "display_data",
          "data": {
            "image/png": "[encoded data removed]",
            "text/plain": [
              "<Figure size 2880x864 with 1 Axes>"
            ]
          },
          "metadata": {
            "tags": [],
            "needs_background": "light"
          }
        }
      ]
    },
    {
      "cell_type": "code",
      "metadata": {
        "colab": {
          "base_uri": "https://localhost:8080/",
          "height": 516
        },
        "id": "Kg1Px7vQ_Ev9",
        "outputId": "6ad7d882-03e3-425b-d3ad-f025816d446c"
      },
      "source": [
        "#플랫폼별 시각화\n",
        "top3_plot = top3.groupby(\"Platform\").sum().plot(kind='barh')\n",
        "top3_plot.set_xlabel(\"Sales\")\n",
        "top3_plot.set_ylabel(\"Platform\")"
      ],
      "execution_count": 167,
      "outputs": [
        {
          "output_type": "execute_result",
          "data": {
            "text/plain": [
              "Text(0, 0.5, 'Platform')"
            ]
          },
          "metadata": {
            "tags": []
          },
          "execution_count": 167
        },
        {
          "output_type": "display_data",
          "data": {
            "image/png": "[encoded data removed]",
            "text/plain": [
              "<Figure size 2880x864 with 1 Axes>"
            ]
          },
          "metadata": {
            "tags": [],
            "needs_background": "light"
          }
        }
      ]
    },
    {
      "cell_type": "code",
      "metadata": {
        "colab": {
          "base_uri": "https://localhost:8080/",
          "height": 562
        },
        "id": "-J4WO0KNGVAE",
        "outputId": "dc28b9a1-8235-4fec-fbca-5e2fa302bfdb"
      },
      "source": [
        "#플랫폼별 Sales 변화\n",
        "pd_sort1 = df_sort1.groupby(\"Platform\").sum()\n",
        "pd_sort2 = df_sort2.groupby(\"Platform\").sum()\n",
        "pd_sort3 = df_sort3.groupby(\"Platform\").sum()\n",
        "platform_sort = pd_sort2.copy()\n",
        "platform_sort = platform_sort.drop(['Total_Sales'], axis=1)\n",
        "platform_sort['Total_Sales1'] = (pd_sort1['Total_Sales'])\n",
        "platform_sort['Total_Sales2'] = (pd_sort2['Total_Sales'])\n",
        "platform_sort['Total_Sales3'] = (pd_sort3['Total_Sales'])\n",
        "platform_sort['Change1'] = (pd_sort2['Total_Sales'] - pd_sort1['Total_Sales'])\n",
        "platform_sort['Change2'] = (pd_sort3['Total_Sales'] - pd_sort2['Total_Sales'])\n",
        "platform_sort"
      ],
      "execution_count": 168,
      "outputs": [
        {
          "output_type": "execute_result",
          "data": {
            "text/html": [
              "<div>\n",
              "<style scoped>\n",
              "    .dataframe tbody tr th:only-of-type {\n",
              "        vertical-align: middle;\n",
              "    }\n",
              "\n",
              "    .dataframe tbody tr th {\n",
              "        vertical-align: top;\n",
              "    }\n",
              "\n",
              "    .dataframe thead th {\n",
              "        text-align: right;\n",
              "    }\n",
              "</style>\n",
              "<table border=\"1\" class=\"dataframe\">\n",
              "  <thead>\n",
              "    <tr style=\"text-align: right;\">\n",
              "      <th></th>\n",
              "      <th>Total_Sales1</th>\n",
              "      <th>Total_Sales2</th>\n",
              "      <th>Total_Sales3</th>\n",
              "      <th>Change1</th>\n",
              "      <th>Change2</th>\n",
              "    </tr>\n",
              "    <tr>\n",
              "      <th>Platform</th>\n",
              "      <th></th>\n",
              "      <th></th>\n",
              "      <th></th>\n",
              "      <th></th>\n",
              "      <th></th>\n",
              "    </tr>\n",
              "  </thead>\n",
              "  <tbody>\n",
              "    <tr>\n",
              "      <th>DC</th>\n",
              "      <td>8.21</td>\n",
              "      <td>7.16</td>\n",
              "      <td>NaN</td>\n",
              "      <td>-1.05</td>\n",
              "      <td>NaN</td>\n",
              "    </tr>\n",
              "    <tr>\n",
              "      <th>DS</th>\n",
              "      <td>0.02</td>\n",
              "      <td>569.08</td>\n",
              "      <td>80.55</td>\n",
              "      <td>569.06</td>\n",
              "      <td>-488.53</td>\n",
              "    </tr>\n",
              "    <tr>\n",
              "      <th>GB</th>\n",
              "      <td>179.38</td>\n",
              "      <td>22.66</td>\n",
              "      <td>NaN</td>\n",
              "      <td>-156.72</td>\n",
              "      <td>NaN</td>\n",
              "    </tr>\n",
              "    <tr>\n",
              "      <th>GBA</th>\n",
              "      <td>0.11</td>\n",
              "      <td>240.46</td>\n",
              "      <td>NaN</td>\n",
              "      <td>240.35</td>\n",
              "      <td>NaN</td>\n",
              "    </tr>\n",
              "    <tr>\n",
              "      <th>GC</th>\n",
              "      <td>0.28</td>\n",
              "      <td>128.69</td>\n",
              "      <td>NaN</td>\n",
              "      <td>128.41</td>\n",
              "      <td>NaN</td>\n",
              "    </tr>\n",
              "    <tr>\n",
              "      <th>N64</th>\n",
              "      <td>156.18</td>\n",
              "      <td>28.65</td>\n",
              "      <td>NaN</td>\n",
              "      <td>-127.53</td>\n",
              "      <td>NaN</td>\n",
              "    </tr>\n",
              "    <tr>\n",
              "      <th>PC</th>\n",
              "      <td>45.72</td>\n",
              "      <td>71.36</td>\n",
              "      <td>74.40</td>\n",
              "      <td>25.64</td>\n",
              "      <td>3.04</td>\n",
              "    </tr>\n",
              "    <tr>\n",
              "      <th>PS</th>\n",
              "      <td>542.12</td>\n",
              "      <td>114.34</td>\n",
              "      <td>NaN</td>\n",
              "      <td>-427.78</td>\n",
              "      <td>NaN</td>\n",
              "    </tr>\n",
              "    <tr>\n",
              "      <th>PS2</th>\n",
              "      <td>0.17</td>\n",
              "      <td>764.49</td>\n",
              "      <td>1.94</td>\n",
              "      <td>764.32</td>\n",
              "      <td>-762.55</td>\n",
              "    </tr>\n",
              "    <tr>\n",
              "      <th>PS3</th>\n",
              "      <td>0.17</td>\n",
              "      <td>163.73</td>\n",
              "      <td>248.94</td>\n",
              "      <td>163.56</td>\n",
              "      <td>85.21</td>\n",
              "    </tr>\n",
              "    <tr>\n",
              "      <th>PSP</th>\n",
              "      <td>NaN</td>\n",
              "      <td>154.13</td>\n",
              "      <td>46.29</td>\n",
              "      <td>NaN</td>\n",
              "      <td>-107.84</td>\n",
              "    </tr>\n",
              "    <tr>\n",
              "      <th>PSV</th>\n",
              "      <td>NaN</td>\n",
              "      <td>0.30</td>\n",
              "      <td>33.87</td>\n",
              "      <td>NaN</td>\n",
              "      <td>33.57</td>\n",
              "    </tr>\n",
              "    <tr>\n",
              "      <th>WS</th>\n",
              "      <td>0.46</td>\n",
              "      <td>0.20</td>\n",
              "      <td>NaN</td>\n",
              "      <td>-0.26</td>\n",
              "      <td>NaN</td>\n",
              "    </tr>\n",
              "    <tr>\n",
              "      <th>Wii</th>\n",
              "      <td>0.05</td>\n",
              "      <td>556.44</td>\n",
              "      <td>138.54</td>\n",
              "      <td>556.39</td>\n",
              "      <td>-417.90</td>\n",
              "    </tr>\n",
              "    <tr>\n",
              "      <th>X360</th>\n",
              "      <td>NaN</td>\n",
              "      <td>202.93</td>\n",
              "      <td>232.00</td>\n",
              "      <td>NaN</td>\n",
              "      <td>29.07</td>\n",
              "    </tr>\n",
              "    <tr>\n",
              "      <th>XB</th>\n",
              "      <td>NaN</td>\n",
              "      <td>144.24</td>\n",
              "      <td>0.06</td>\n",
              "      <td>NaN</td>\n",
              "      <td>-144.18</td>\n",
              "    </tr>\n",
              "  </tbody>\n",
              "</table>\n",
              "</div>"
            ],
            "text/plain": [
              "          Total_Sales1  Total_Sales2  Total_Sales3  Change1  Change2\n",
              "Platform                                                            \n",
              "DC                8.21          7.16           NaN    -1.05      NaN\n",
              "DS                0.02        569.08         80.55   569.06  -488.53\n",
              "GB              179.38         22.66           NaN  -156.72      NaN\n",
              "GBA               0.11        240.46           NaN   240.35      NaN\n",
              "GC                0.28        128.69           NaN   128.41      NaN\n",
              "N64             156.18         28.65           NaN  -127.53      NaN\n",
              "PC               45.72         71.36         74.40    25.64     3.04\n",
              "PS              542.12        114.34           NaN  -427.78      NaN\n",
              "PS2               0.17        764.49          1.94   764.32  -762.55\n",
              "PS3               0.17        163.73        248.94   163.56    85.21\n",
              "PSP                NaN        154.13         46.29      NaN  -107.84\n",
              "PSV                NaN          0.30         33.87      NaN    33.57\n",
              "WS                0.46          0.20           NaN    -0.26      NaN\n",
              "Wii               0.05        556.44        138.54   556.39  -417.90\n",
              "X360               NaN        202.93        232.00      NaN    29.07\n",
              "XB                 NaN        144.24          0.06      NaN  -144.18"
            ]
          },
          "metadata": {
            "tags": []
          },
          "execution_count": 168
        }
      ]
    },
    {
      "cell_type": "code",
      "metadata": {
        "colab": {
          "base_uri": "https://localhost:8080/",
          "height": 441
        },
        "id": "G7xDrCKwKPQg",
        "outputId": "2a2168b7-1257-4c8d-aadb-845db8202c5f"
      },
      "source": [
        "#장르별 Sales 변화\n",
        "gd_sort1 = df_sort1.groupby(\"Genre\").sum()\n",
        "gd_sort2 = df_sort2.groupby(\"Genre\").sum()\n",
        "gd_sort3 = df_sort3.groupby(\"Genre\").sum()\n",
        "genre_sort = d_sort2.copy()\n",
        "genre_sort = genre_sort.drop(['Total_Sales'], axis=1)\n",
        "genre_sort['Total_Sales1'] = (gd_sort1['Total_Sales'])\n",
        "genre_sort['Total_Sales2'] = (gd_sort2['Total_Sales'])\n",
        "genre_sort['Total_Sales3'] = (gd_sort3['Total_Sales'])\n",
        "genre_sort['Change1'] = (gd_sort2['Total_Sales'] - gd_sort1['Total_Sales'])\n",
        "genre_sort['Change2'] = (gd_sort3['Total_Sales'] - gd_sort2['Total_Sales'])\n",
        "genre_sort"
      ],
      "execution_count": 136,
      "outputs": [
        {
          "output_type": "execute_result",
          "data": {
            "text/html": [
              "<div>\n",
              "<style scoped>\n",
              "    .dataframe tbody tr th:only-of-type {\n",
              "        vertical-align: middle;\n",
              "    }\n",
              "\n",
              "    .dataframe tbody tr th {\n",
              "        vertical-align: top;\n",
              "    }\n",
              "\n",
              "    .dataframe thead th {\n",
              "        text-align: right;\n",
              "    }\n",
              "</style>\n",
              "<table border=\"1\" class=\"dataframe\">\n",
              "  <thead>\n",
              "    <tr style=\"text-align: right;\">\n",
              "      <th></th>\n",
              "      <th>Total_Sales1</th>\n",
              "      <th>Total_Sales2</th>\n",
              "      <th>Total_Sales3</th>\n",
              "      <th>Change1</th>\n",
              "      <th>Change2</th>\n",
              "    </tr>\n",
              "    <tr>\n",
              "      <th>Genre</th>\n",
              "      <th></th>\n",
              "      <th></th>\n",
              "      <th></th>\n",
              "      <th></th>\n",
              "      <th></th>\n",
              "    </tr>\n",
              "  </thead>\n",
              "  <tbody>\n",
              "    <tr>\n",
              "      <th>Action</th>\n",
              "      <td>175.45</td>\n",
              "      <td>487.14</td>\n",
              "      <td>285.91</td>\n",
              "      <td>311.69</td>\n",
              "      <td>-201.23</td>\n",
              "    </tr>\n",
              "    <tr>\n",
              "      <th>Adventure</th>\n",
              "      <td>49.44</td>\n",
              "      <td>98.60</td>\n",
              "      <td>40.87</td>\n",
              "      <td>49.16</td>\n",
              "      <td>-57.73</td>\n",
              "    </tr>\n",
              "    <tr>\n",
              "      <th>Fighting</th>\n",
              "      <td>114.57</td>\n",
              "      <td>160.68</td>\n",
              "      <td>36.48</td>\n",
              "      <td>46.11</td>\n",
              "      <td>-124.20</td>\n",
              "    </tr>\n",
              "    <tr>\n",
              "      <th>Misc</th>\n",
              "      <td>68.03</td>\n",
              "      <td>356.33</td>\n",
              "      <td>154.04</td>\n",
              "      <td>288.30</td>\n",
              "      <td>-202.29</td>\n",
              "    </tr>\n",
              "    <tr>\n",
              "      <th>Platform</th>\n",
              "      <td>308.98</td>\n",
              "      <td>266.70</td>\n",
              "      <td>93.13</td>\n",
              "      <td>-42.28</td>\n",
              "      <td>-173.57</td>\n",
              "    </tr>\n",
              "    <tr>\n",
              "      <th>Puzzle</th>\n",
              "      <td>61.92</td>\n",
              "      <td>109.86</td>\n",
              "      <td>18.42</td>\n",
              "      <td>47.94</td>\n",
              "      <td>-91.44</td>\n",
              "    </tr>\n",
              "    <tr>\n",
              "      <th>Racing</th>\n",
              "      <td>151.86</td>\n",
              "      <td>298.80</td>\n",
              "      <td>72.01</td>\n",
              "      <td>146.94</td>\n",
              "      <td>-226.79</td>\n",
              "    </tr>\n",
              "    <tr>\n",
              "      <th>Role-Playing</th>\n",
              "      <td>190.44</td>\n",
              "      <td>364.83</td>\n",
              "      <td>166.05</td>\n",
              "      <td>174.39</td>\n",
              "      <td>-198.78</td>\n",
              "    </tr>\n",
              "    <tr>\n",
              "      <th>Shooter</th>\n",
              "      <td>124.07</td>\n",
              "      <td>260.69</td>\n",
              "      <td>188.32</td>\n",
              "      <td>136.62</td>\n",
              "      <td>-72.37</td>\n",
              "    </tr>\n",
              "    <tr>\n",
              "      <th>Simulation</th>\n",
              "      <td>46.56</td>\n",
              "      <td>219.76</td>\n",
              "      <td>56.30</td>\n",
              "      <td>173.20</td>\n",
              "      <td>-163.46</td>\n",
              "    </tr>\n",
              "    <tr>\n",
              "      <th>Sports</th>\n",
              "      <td>162.91</td>\n",
              "      <td>474.67</td>\n",
              "      <td>106.90</td>\n",
              "      <td>311.76</td>\n",
              "      <td>-367.77</td>\n",
              "    </tr>\n",
              "    <tr>\n",
              "      <th>Strategy</th>\n",
              "      <td>53.90</td>\n",
              "      <td>70.80</td>\n",
              "      <td>27.89</td>\n",
              "      <td>16.90</td>\n",
              "      <td>-42.91</td>\n",
              "    </tr>\n",
              "  </tbody>\n",
              "</table>\n",
              "</div>"
            ],
            "text/plain": [
              "              Total_Sales1  Total_Sales2  Total_Sales3  Change1  Change2\n",
              "Genre                                                                   \n",
              "Action              175.45        487.14        285.91   311.69  -201.23\n",
              "Adventure            49.44         98.60         40.87    49.16   -57.73\n",
              "Fighting            114.57        160.68         36.48    46.11  -124.20\n",
              "Misc                 68.03        356.33        154.04   288.30  -202.29\n",
              "Platform            308.98        266.70         93.13   -42.28  -173.57\n",
              "Puzzle               61.92        109.86         18.42    47.94   -91.44\n",
              "Racing              151.86        298.80         72.01   146.94  -226.79\n",
              "Role-Playing        190.44        364.83        166.05   174.39  -198.78\n",
              "Shooter             124.07        260.69        188.32   136.62   -72.37\n",
              "Simulation           46.56        219.76         56.30   173.20  -163.46\n",
              "Sports              162.91        474.67        106.90   311.76  -367.77\n",
              "Strategy             53.90         70.80         27.89    16.90   -42.91"
            ]
          },
          "metadata": {
            "tags": []
          },
          "execution_count": 136
        }
      ]
    },
    {
      "cell_type": "code",
      "metadata": {
        "id": "61p8whPw90Um"
      },
      "source": [
        "######## 궁금증 테스트 (cluster이 될까)\n",
        "import pandas as pd\n",
        "import numpy as np\n",
        "import seaborn as sns\n",
        "from sklearn.cluster import KMeans \n",
        "from sklearn.preprocessing import StandardScaler \n",
        "from sklearn.decomposition import PCA\n",
        "import matplotlib.pyplot as plt\n",
        "\n",
        "df1_sort = df2.drop((['Total_Sales']), axis =1)\n",
        "#Label로 지정\n",
        "publisher_label = df1_sort['Publisher']\n",
        "platform_label = df1_sort['Platform']\n",
        "genre_label = df1_sort['Genre']\n",
        "\n",
        "#숫자 데이터\n",
        "number = df1_sort[['NA_Sales','EU_Sales','JP_Sales','Other_Sales']]\n",
        "\n",
        "#정규화\n",
        "scaler = StandardScaler()\n",
        "scaler.fit(number)\n",
        "number = scaler.transform(number)\n",
        "number\n"
      ],
      "execution_count": null,
      "outputs": []
    },
    {
      "cell_type": "code",
      "metadata": {
        "id": "5rdhaihR_KZA"
      },
      "source": [
        "#Elbow methods\n",
        "sum_of_sqd = []\n",
        "K = range(1, 15)\n",
        "for k in K:\n",
        "    km = KMeans(n_clusters = k)\n",
        "    km = km.fit(number)\n",
        "    sum_of_sqd.append(km.inertia_)\n",
        "\n",
        "plt.plot(K, sum_of_sqd, 'bx-')\n",
        "plt.xlabel('k')\n",
        "plt.ylabel('Sum_of_squared_distances')\n",
        "plt.title('Elbow Method For Optimal k')\n",
        "plt.show()"
      ],
      "execution_count": null,
      "outputs": []
    },
    {
      "cell_type": "code",
      "metadata": {
        "id": "pt1CE6Nv_SmU"
      },
      "source": [
        "k2_means = KMeans(n_clusters=2, random_state=42)\n",
        "k2_means.fit(number)\n",
        "clusters = k2_means.labels_\n",
        "series = pd.Series(clusters)\n",
        "series"
      ],
      "execution_count": null,
      "outputs": []
    },
    {
      "cell_type": "code",
      "metadata": {
        "id": "bKVC8J10_e5b"
      },
      "source": [
        "pca = PCA(n_components = 2)\n",
        "pc = pca.fit_transform(number)\n",
        "final_df = pd.DataFrame(data = pc, columns = ['PC1','PC2'])\n",
        "final_df['Cluster'] = series\n",
        "final_df"
      ],
      "execution_count": null,
      "outputs": []
    },
    {
      "cell_type": "code",
      "metadata": {
        "id": "k7HcSDfc_q4V"
      },
      "source": [
        "label_df = pd.DataFrame(data = pc, columns = ['PC1', 'PC2'])\n",
        "label_df['Publisher'] = pd.Series(publisher_label)\n",
        "label_df"
      ],
      "execution_count": null,
      "outputs": []
    },
    {
      "cell_type": "code",
      "metadata": {
        "id": "s-EK3Nxm_orq"
      },
      "source": [
        "sns.scatterplot(data = label_df ,x='PC1',y='PC2', hue='Publisher')\n",
        "plt.title('Diagnosis Labeled')\n",
        "plt.show()"
      ],
      "execution_count": null,
      "outputs": []
    }
  ]
}