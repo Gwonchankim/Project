{
  "nbformat": 4,
  "nbformat_minor": 0,
  "metadata": {
    "colab": {
      "name": "Untitled6.ipynb",
      "provenance": [],
      "collapsed_sections": []
    },
    "kernelspec": {
      "name": "python3",
      "display_name": "Python 3"
    },
    "language_info": {
      "name": "python"
    }
  },
  "cells": [
    {
      "cell_type": "code",
      "metadata": {
        "colab": {
          "resources": {
            "http://localhost:8080/nbextensions/google.colab/files.js": {
              "data": "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",
              "ok": true,
              "headers": [
                [
                  "content-type",
                  "application/javascript"
                ]
              ],
              "status": 200,
              "status_text": ""
            }
          },
          "base_uri": "https://localhost:8080/",
          "height": 75
        },
        "id": "XXJ2cVQUrzN-",
        "outputId": "efe11732-cdf9-4fb7-87d0-5e8576c2dbde"
      },
      "source": [
        "from google.colab import files\n",
        "uploaded = files.upload()"
      ],
      "execution_count": 1,
      "outputs": [
        {
          "output_type": "display_data",
          "data": {
            "text/html": [
              "\n",
              "     <input type=\"file\" id=\"files-764b4131-02b6-4b1f-851d-5f2024a199e7\" name=\"files[]\" multiple disabled\n",
              "        style=\"border:none\" />\n",
              "     <output id=\"result-764b4131-02b6-4b1f-851d-5f2024a199e7\">\n",
              "      Upload widget is only available when the cell has been executed in the\n",
              "      current browser session. Please rerun this cell to enable.\n",
              "      </output>\n",
              "      <script src=\"/nbextensions/google.colab/files.js\"></script> "
            ],
            "text/plain": [
              "<IPython.core.display.HTML object>"
            ]
          },
          "metadata": {
            "tags": []
          }
        },
        {
          "output_type": "stream",
          "text": [
            "Saving vgames2.csv to vgames2.csv\n"
          ],
          "name": "stdout"
        }
      ]
    },
    {
      "cell_type": "code",
      "metadata": {
        "colab": {
          "base_uri": "https://localhost:8080/"
        },
        "id": "_sJbtqiwdLJc",
        "outputId": "0dfa7e4c-31ee-44ad-bfd1-076244972a65"
      },
      "source": [
        "import pandas as pd\n",
        "import numpy as np\n",
        "import io\n",
        "\n",
        "#데이터 불러오기\n",
        "df = pd.read_csv(io.BytesIO(uploaded['vgames2.csv']))\n",
        "df = df.dropna(axis=0)\n",
        "df['Year'] = df['Year'].astype(int)\n",
        "\n",
        "#중복된 게임명 제거\n",
        "df = df.drop_duplicates(['Name'])\n",
        "df.iloc[:12]\n",
        "df.shape"
      ],
      "execution_count": 78,
      "outputs": [
        {
          "output_type": "execute_result",
          "data": {
            "text/plain": [
              "(11410, 9)"
            ]
          },
          "metadata": {
            "tags": []
          },
          "execution_count": 78
        }
      ]
    },
    {
      "cell_type": "code",
      "metadata": {
        "id": "bA_fL9h5kkrX"
      },
      "source": [
        "#Sales 데이터의 단위는 Million, 따라서 K, M 지우고 단위 변환\n",
        "\n",
        "df.NA_Sales = (df.NA_Sales.replace(r'[KM]+$', '', regex=True).astype(float) * \\\n",
        "           df.NA_Sales.str.extract(r'[\\d\\.]+([KM]+)', expand=False)\n",
        "           .fillna(1)\n",
        "           .replace(['K','M'], [10**-3, 1]).astype(int))\n",
        " \n",
        "df.EU_Sales = (df.EU_Sales.replace(r'[KM]+$', '', regex=True).astype(float) * \\\n",
        "           df.EU_Sales.str.extract(r'[\\d\\.]+([KM]+)', expand=False)\n",
        "           .fillna(1)\n",
        "           .replace(['K','M'], [10**-3, 1]).astype(int))\n",
        " \n",
        "df.JP_Sales = (df.JP_Sales.replace(r'[KM]+$', '', regex=True).astype(float) * \\\n",
        "           df.JP_Sales.str.extract(r'[\\d\\.]+([KM]+)', expand=False)\n",
        "           .fillna(1)\n",
        "           .replace(['K','M'], [10**-3, 1]).astype(int))\n",
        "df.Other_Sales = (df.Other_Sales.replace(r'[KM]+$', '', regex=True).astype(float) * \\\n",
        "           df.Other_Sales.str.extract(r'[\\d\\.]+([KM]+)', expand=False)\n",
        "           .fillna(1)\n",
        "           .replace(['K','M'], [10**-3, 1]).astype(int))\n",
        "\n"
      ],
      "execution_count": 79,
      "outputs": []
    },
    {
      "cell_type": "code",
      "metadata": {
        "id": "GhmSy_boY9Ej",
        "colab": {
          "base_uri": "https://localhost:8080/",
          "height": 408
        },
        "outputId": "7ceb8712-2641-4f82-ac11-a34f86ec9d7d"
      },
      "source": [
        "df = df[df['Year'] > 1000]\n",
        "df"
      ],
      "execution_count": 7,
      "outputs": [
        {
          "output_type": "execute_result",
          "data": {
            "text/html": [
              "<div>\n",
              "<style scoped>\n",
              "    .dataframe tbody tr th:only-of-type {\n",
              "        vertical-align: middle;\n",
              "    }\n",
              "\n",
              "    .dataframe tbody tr th {\n",
              "        vertical-align: top;\n",
              "    }\n",
              "\n",
              "    .dataframe thead th {\n",
              "        text-align: right;\n",
              "    }\n",
              "</style>\n",
              "<table border=\"1\" class=\"dataframe\">\n",
              "  <thead>\n",
              "    <tr style=\"text-align: right;\">\n",
              "      <th></th>\n",
              "      <th>Name</th>\n",
              "      <th>Publisher</th>\n",
              "      <th>Platform</th>\n",
              "      <th>Year</th>\n",
              "      <th>Genre</th>\n",
              "      <th>NA_Sales</th>\n",
              "      <th>EU_Sales</th>\n",
              "      <th>JP_Sales</th>\n",
              "      <th>Other_Sales</th>\n",
              "    </tr>\n",
              "  </thead>\n",
              "  <tbody>\n",
              "    <tr>\n",
              "      <th>0</th>\n",
              "      <td>Maze Craze: A Game of Cops 'n Robbers</td>\n",
              "      <td>Atari</td>\n",
              "      <td>2600</td>\n",
              "      <td>1980</td>\n",
              "      <td>Action</td>\n",
              "      <td>0.42</td>\n",
              "      <td>0.02</td>\n",
              "      <td>0.0</td>\n",
              "      <td>0.00</td>\n",
              "    </tr>\n",
              "    <tr>\n",
              "      <th>1</th>\n",
              "      <td>Sabre Wulf</td>\n",
              "      <td>THQ</td>\n",
              "      <td>GBA</td>\n",
              "      <td>1984</td>\n",
              "      <td>Platform</td>\n",
              "      <td>0.02</td>\n",
              "      <td>0.01</td>\n",
              "      <td>0.0</td>\n",
              "      <td>0.00</td>\n",
              "    </tr>\n",
              "    <tr>\n",
              "      <th>2</th>\n",
              "      <td>The Golden Compass</td>\n",
              "      <td>Sega</td>\n",
              "      <td>PSP</td>\n",
              "      <td>2007</td>\n",
              "      <td>Action</td>\n",
              "      <td>0.11</td>\n",
              "      <td>0.00</td>\n",
              "      <td>0.0</td>\n",
              "      <td>0.10</td>\n",
              "    </tr>\n",
              "    <tr>\n",
              "      <th>3</th>\n",
              "      <td>Alone in the Dark: The New Nightmare</td>\n",
              "      <td>Infogrames</td>\n",
              "      <td>PS</td>\n",
              "      <td>2001</td>\n",
              "      <td>Adventure</td>\n",
              "      <td>0.09</td>\n",
              "      <td>0.06</td>\n",
              "      <td>0.0</td>\n",
              "      <td>0.01</td>\n",
              "    </tr>\n",
              "    <tr>\n",
              "      <th>4</th>\n",
              "      <td>Disney's Cinderella: Magical Dreams</td>\n",
              "      <td>Disney Interactive Studios</td>\n",
              "      <td>GBA</td>\n",
              "      <td>2006</td>\n",
              "      <td>Platform</td>\n",
              "      <td>0.10</td>\n",
              "      <td>0.04</td>\n",
              "      <td>0.0</td>\n",
              "      <td>0.00</td>\n",
              "    </tr>\n",
              "    <tr>\n",
              "      <th>...</th>\n",
              "      <td>...</td>\n",
              "      <td>...</td>\n",
              "      <td>...</td>\n",
              "      <td>...</td>\n",
              "      <td>...</td>\n",
              "      <td>...</td>\n",
              "      <td>...</td>\n",
              "      <td>...</td>\n",
              "      <td>...</td>\n",
              "    </tr>\n",
              "    <tr>\n",
              "      <th>16488</th>\n",
              "      <td>Custer's Revenge</td>\n",
              "      <td>Mystique</td>\n",
              "      <td>2600</td>\n",
              "      <td>1981</td>\n",
              "      <td>Action</td>\n",
              "      <td>0.76</td>\n",
              "      <td>0.05</td>\n",
              "      <td>0.0</td>\n",
              "      <td>0.01</td>\n",
              "    </tr>\n",
              "    <tr>\n",
              "      <th>16490</th>\n",
              "      <td>Kaboom!</td>\n",
              "      <td>Activision</td>\n",
              "      <td>2600</td>\n",
              "      <td>1980</td>\n",
              "      <td>Misc</td>\n",
              "      <td>1.07</td>\n",
              "      <td>0.07</td>\n",
              "      <td>0.0</td>\n",
              "      <td>0.01</td>\n",
              "    </tr>\n",
              "    <tr>\n",
              "      <th>16491</th>\n",
              "      <td>Checkers</td>\n",
              "      <td>Atari</td>\n",
              "      <td>2600</td>\n",
              "      <td>1980</td>\n",
              "      <td>Misc</td>\n",
              "      <td>0.22</td>\n",
              "      <td>0.01</td>\n",
              "      <td>0.0</td>\n",
              "      <td>0.00</td>\n",
              "    </tr>\n",
              "    <tr>\n",
              "      <th>16492</th>\n",
              "      <td>Bridge</td>\n",
              "      <td>Activision</td>\n",
              "      <td>2600</td>\n",
              "      <td>1980</td>\n",
              "      <td>Misc</td>\n",
              "      <td>0.25</td>\n",
              "      <td>0.02</td>\n",
              "      <td>0.0</td>\n",
              "      <td>0.00</td>\n",
              "    </tr>\n",
              "    <tr>\n",
              "      <th>16495</th>\n",
              "      <td>Freeway</td>\n",
              "      <td>Activision</td>\n",
              "      <td>2600</td>\n",
              "      <td>1980</td>\n",
              "      <td>Action</td>\n",
              "      <td>0.32</td>\n",
              "      <td>0.02</td>\n",
              "      <td>0.0</td>\n",
              "      <td>0.00</td>\n",
              "    </tr>\n",
              "  </tbody>\n",
              "</table>\n",
              "<p>11353 rows × 9 columns</p>\n",
              "</div>"
            ],
            "text/plain": [
              "                                        Name  ... Other_Sales\n",
              "0      Maze Craze: A Game of Cops 'n Robbers  ...        0.00\n",
              "1                                 Sabre Wulf  ...        0.00\n",
              "2                         The Golden Compass  ...        0.10\n",
              "3       Alone in the Dark: The New Nightmare  ...        0.01\n",
              "4        Disney's Cinderella: Magical Dreams  ...        0.00\n",
              "...                                      ...  ...         ...\n",
              "16488                       Custer's Revenge  ...        0.01\n",
              "16490                                Kaboom!  ...        0.01\n",
              "16491                               Checkers  ...        0.00\n",
              "16492                                 Bridge  ...        0.00\n",
              "16495                                Freeway  ...        0.00\n",
              "\n",
              "[11353 rows x 9 columns]"
            ]
          },
          "metadata": {
            "tags": []
          },
          "execution_count": 7
        }
      ]
    },
    {
      "cell_type": "code",
      "metadata": {
        "colab": {
          "base_uri": "https://localhost:8080/",
          "height": 48
        },
        "id": "eMN16yeCZsQE",
        "outputId": "5805577b-b5ce-458a-d0e1-a4a0bc2b2453"
      },
      "source": [
        "#연도 오류 수정\n",
        "error = df[df['Year'] <1000]\n",
        "list_of_my_columns = ['NA_Sales', 'EU_Sales', 'JP_Sales', 'Other_Sales']\n",
        "error['Total_Sales'] = error[list_of_my_columns].sum(axis=1)\n",
        "error = error[error['Total_Sales'] > 0.5]\n",
        "error.sort_values('Total_Sales', ascending=False)"
      ],
      "execution_count": null,
      "outputs": [
        {
          "output_type": "execute_result",
          "data": {
            "text/html": [
              "<div>\n",
              "<style scoped>\n",
              "    .dataframe tbody tr th:only-of-type {\n",
              "        vertical-align: middle;\n",
              "    }\n",
              "\n",
              "    .dataframe tbody tr th {\n",
              "        vertical-align: top;\n",
              "    }\n",
              "\n",
              "    .dataframe thead th {\n",
              "        text-align: right;\n",
              "    }\n",
              "</style>\n",
              "<table border=\"1\" class=\"dataframe\">\n",
              "  <thead>\n",
              "    <tr style=\"text-align: right;\">\n",
              "      <th></th>\n",
              "      <th>Name</th>\n",
              "      <th>Publisher</th>\n",
              "      <th>Platform</th>\n",
              "      <th>Year</th>\n",
              "      <th>Genre</th>\n",
              "      <th>NA_Sales</th>\n",
              "      <th>EU_Sales</th>\n",
              "      <th>JP_Sales</th>\n",
              "      <th>Other_Sales</th>\n",
              "      <th>Total_Sales</th>\n",
              "    </tr>\n",
              "  </thead>\n",
              "  <tbody>\n",
              "  </tbody>\n",
              "</table>\n",
              "</div>"
            ],
            "text/plain": [
              "Empty DataFrame\n",
              "Columns: [Name, Publisher, Platform, Year, Genre, NA_Sales, EU_Sales, JP_Sales, Other_Sales, Total_Sales]\n",
              "Index: []"
            ]
          },
          "metadata": {
            "tags": []
          },
          "execution_count": 244
        }
      ]
    },
    {
      "cell_type": "code",
      "metadata": {
        "colab": {
          "base_uri": "https://localhost:8080/",
          "height": 361
        },
        "id": "zWwziBwEDcor",
        "outputId": "cf334646-7079-47b6-82be-e59a098046b8"
      },
      "source": [
        "num = df.Year\n",
        "\n",
        "while num < 25:\n",
        "  num = num+2000\n",
        "\n",
        "while num < 1000:\n",
        "  num = num+1900"
      ],
      "execution_count": 81,
      "outputs": [
        {
          "output_type": "error",
          "ename": "ValueError",
          "evalue": "ignored",
          "traceback": [
            "\u001b[0;31m---------------------------------------------------------------------------\u001b[0m",
            "\u001b[0;31mValueError\u001b[0m                                Traceback (most recent call last)",
            "\u001b[0;32m<ipython-input-81-42955d775a03>\u001b[0m in \u001b[0;36m<module>\u001b[0;34m()\u001b[0m\n\u001b[1;32m      1\u001b[0m \u001b[0mnum\u001b[0m \u001b[0;34m=\u001b[0m \u001b[0mdf\u001b[0m\u001b[0;34m.\u001b[0m\u001b[0mYear\u001b[0m\u001b[0;34m\u001b[0m\u001b[0;34m\u001b[0m\u001b[0m\n\u001b[1;32m      2\u001b[0m \u001b[0;34m\u001b[0m\u001b[0m\n\u001b[0;32m----> 3\u001b[0;31m \u001b[0;32mwhile\u001b[0m \u001b[0mnum\u001b[0m \u001b[0;34m<\u001b[0m \u001b[0;36m25\u001b[0m\u001b[0;34m:\u001b[0m\u001b[0;34m\u001b[0m\u001b[0;34m\u001b[0m\u001b[0m\n\u001b[0m\u001b[1;32m      4\u001b[0m   \u001b[0mnum\u001b[0m \u001b[0;34m=\u001b[0m \u001b[0mnum\u001b[0m\u001b[0;34m+\u001b[0m\u001b[0;36m2000\u001b[0m\u001b[0;34m\u001b[0m\u001b[0;34m\u001b[0m\u001b[0m\n\u001b[1;32m      5\u001b[0m \u001b[0;34m\u001b[0m\u001b[0m\n",
            "\u001b[0;32m/usr/local/lib/python3.7/dist-packages/pandas/core/generic.py\u001b[0m in \u001b[0;36m__nonzero__\u001b[0;34m(self)\u001b[0m\n\u001b[1;32m   1328\u001b[0m     \u001b[0;32mdef\u001b[0m \u001b[0m__nonzero__\u001b[0m\u001b[0;34m(\u001b[0m\u001b[0mself\u001b[0m\u001b[0;34m)\u001b[0m\u001b[0;34m:\u001b[0m\u001b[0;34m\u001b[0m\u001b[0;34m\u001b[0m\u001b[0m\n\u001b[1;32m   1329\u001b[0m         raise ValueError(\n\u001b[0;32m-> 1330\u001b[0;31m             \u001b[0;34mf\"The truth value of a {type(self).__name__} is ambiguous. \"\u001b[0m\u001b[0;34m\u001b[0m\u001b[0;34m\u001b[0m\u001b[0m\n\u001b[0m\u001b[1;32m   1331\u001b[0m             \u001b[0;34m\"Use a.empty, a.bool(), a.item(), a.any() or a.all().\"\u001b[0m\u001b[0;34m\u001b[0m\u001b[0;34m\u001b[0m\u001b[0m\n\u001b[1;32m   1332\u001b[0m         )\n",
            "\u001b[0;31mValueError\u001b[0m: The truth value of a Series is ambiguous. Use a.empty, a.bool(), a.item(), a.any() or a.all()."
          ]
        }
      ]
    },
    {
      "cell_type": "markdown",
      "metadata": {
        "id": "WGPjXRGaxohL"
      },
      "source": [
        "1 지역에 따라서 선호하는 게임 장르가 다를까?"
      ]
    },
    {
      "cell_type": "code",
      "metadata": {
        "id": "PKvwD_G4XRfX"
      },
      "source": [
        "#1 지역에 따라서 선호하는 게임 장르가 다를까?\n",
        "import pandas as pd\n",
        "import numpy as np\n",
        "import matplotlib.pyplot as plt\n",
        "import seaborn\n",
        "\n",
        "%matplotlib inline"
      ],
      "execution_count": 8,
      "outputs": []
    },
    {
      "cell_type": "code",
      "metadata": {
        "colab": {
          "base_uri": "https://localhost:8080/",
          "height": 515
        },
        "id": "eC1znTAwasMD",
        "outputId": "57ef9899-bc2f-4880-94ac-b4ecfedb75ba"
      },
      "source": [
        "#지역별 장르 선호도\n",
        "df1 = df.drop(['Year'], axis=1)\n",
        "df1.groupby(\"Genre\").sum()\n",
        "\n",
        "plt.rcParams[\"figure.figsize\"] = (20,8)\n",
        "compare_plot = df1.groupby(\"Genre\").sum().plot(kind='barh')\n",
        "compare_plot.set_xlabel(\"Sales\")\n",
        "compare_plot.set_ylabel(\"Genre\")"
      ],
      "execution_count": 11,
      "outputs": [
        {
          "output_type": "execute_result",
          "data": {
            "text/plain": [
              "Text(0, 0.5, 'Genre')"
            ]
          },
          "metadata": {
            "tags": []
          },
          "execution_count": 11
        },
        {
          "output_type": "display_data",
          "data": {
            "image/png": "[encoded data removed]",
            "text/plain": [
              "<Figure size 1440x576 with 1 Axes>"
            ]
          },
          "metadata": {
            "tags": [],
            "needs_background": "light"
          }
        }
      ]
    },
    {
      "cell_type": "code",
      "metadata": {
        "colab": {
          "base_uri": "https://localhost:8080/",
          "height": 441
        },
        "id": "a2OKQVqqwtfx",
        "outputId": "bc78d6e0-17a7-4e47-c79b-9e8b36f3e56a"
      },
      "source": [
        "#지역별 장르 평균 매출 \n",
        "NA_Sales_Mean = (df.groupby(['Genre'], as_index=False).mean()\n",
        "            .groupby('Genre')['NA_Sales'].mean())\n",
        "EU_Sales_Mean = (df.groupby(['Genre'], as_index=False).mean()\n",
        "            .groupby('Genre')['EU_Sales'].mean())\n",
        "JP_Sales_Mean = (df.groupby(['Genre'], as_index=False).mean()\n",
        "            .groupby('Genre')['JP_Sales'].mean())\n",
        "Other_Sales_Mean = (df.groupby(['Genre'], as_index=False).mean()\n",
        "            .groupby('Genre')['Other_Sales'].mean())\n",
        "Sales_Mean = pd.DataFrame([NA_Sales_Mean, EU_Sales_Mean, JP_Sales_Mean, Other_Sales_Mean])\n",
        "Sales_Mean = Sales_Mean.T\n",
        "Sales_Mean"
      ],
      "execution_count": 12,
      "outputs": [
        {
          "output_type": "execute_result",
          "data": {
            "text/html": [
              "<div>\n",
              "<style scoped>\n",
              "    .dataframe tbody tr th:only-of-type {\n",
              "        vertical-align: middle;\n",
              "    }\n",
              "\n",
              "    .dataframe tbody tr th {\n",
              "        vertical-align: top;\n",
              "    }\n",
              "\n",
              "    .dataframe thead th {\n",
              "        text-align: right;\n",
              "    }\n",
              "</style>\n",
              "<table border=\"1\" class=\"dataframe\">\n",
              "  <thead>\n",
              "    <tr style=\"text-align: right;\">\n",
              "      <th></th>\n",
              "      <th>NA_Sales</th>\n",
              "      <th>EU_Sales</th>\n",
              "      <th>JP_Sales</th>\n",
              "      <th>Other_Sales</th>\n",
              "    </tr>\n",
              "    <tr>\n",
              "      <th>Genre</th>\n",
              "      <th></th>\n",
              "      <th></th>\n",
              "      <th></th>\n",
              "      <th></th>\n",
              "    </tr>\n",
              "  </thead>\n",
              "  <tbody>\n",
              "    <tr>\n",
              "      <th>Action</th>\n",
              "      <td>0.208360</td>\n",
              "      <td>0.106327</td>\n",
              "      <td>0.058392</td>\n",
              "      <td>0.034761</td>\n",
              "    </tr>\n",
              "    <tr>\n",
              "      <th>Adventure</th>\n",
              "      <td>0.075266</td>\n",
              "      <td>0.041681</td>\n",
              "      <td>0.044667</td>\n",
              "      <td>0.010560</td>\n",
              "    </tr>\n",
              "    <tr>\n",
              "      <th>Fighting</th>\n",
              "      <td>0.230132</td>\n",
              "      <td>0.108000</td>\n",
              "      <td>0.121074</td>\n",
              "      <td>0.035074</td>\n",
              "    </tr>\n",
              "    <tr>\n",
              "      <th>Misc</th>\n",
              "      <td>0.199078</td>\n",
              "      <td>0.114864</td>\n",
              "      <td>0.076042</td>\n",
              "      <td>0.035693</td>\n",
              "    </tr>\n",
              "    <tr>\n",
              "      <th>Platform</th>\n",
              "      <td>0.501115</td>\n",
              "      <td>0.232813</td>\n",
              "      <td>0.173945</td>\n",
              "      <td>0.058216</td>\n",
              "    </tr>\n",
              "    <tr>\n",
              "      <th>Puzzle</th>\n",
              "      <td>0.200861</td>\n",
              "      <td>0.091598</td>\n",
              "      <td>0.099078</td>\n",
              "      <td>0.022213</td>\n",
              "    </tr>\n",
              "    <tr>\n",
              "      <th>Racing</th>\n",
              "      <td>0.313238</td>\n",
              "      <td>0.202937</td>\n",
              "      <td>0.067937</td>\n",
              "      <td>0.063930</td>\n",
              "    </tr>\n",
              "    <tr>\n",
              "      <th>Role-Playing</th>\n",
              "      <td>0.184599</td>\n",
              "      <td>0.105401</td>\n",
              "      <td>0.223681</td>\n",
              "      <td>0.030778</td>\n",
              "    </tr>\n",
              "    <tr>\n",
              "      <th>Shooter</th>\n",
              "      <td>0.363333</td>\n",
              "      <td>0.175481</td>\n",
              "      <td>0.034247</td>\n",
              "      <td>0.059605</td>\n",
              "    </tr>\n",
              "    <tr>\n",
              "      <th>Simulation</th>\n",
              "      <td>0.204064</td>\n",
              "      <td>0.114539</td>\n",
              "      <td>0.081369</td>\n",
              "      <td>0.032751</td>\n",
              "    </tr>\n",
              "    <tr>\n",
              "      <th>Sports</th>\n",
              "      <td>0.253999</td>\n",
              "      <td>0.142797</td>\n",
              "      <td>0.076548</td>\n",
              "      <td>0.044013</td>\n",
              "    </tr>\n",
              "    <tr>\n",
              "      <th>Strategy</th>\n",
              "      <td>0.092735</td>\n",
              "      <td>0.064495</td>\n",
              "      <td>0.079111</td>\n",
              "      <td>0.015767</td>\n",
              "    </tr>\n",
              "  </tbody>\n",
              "</table>\n",
              "</div>"
            ],
            "text/plain": [
              "              NA_Sales  EU_Sales  JP_Sales  Other_Sales\n",
              "Genre                                                  \n",
              "Action        0.208360  0.106327  0.058392     0.034761\n",
              "Adventure     0.075266  0.041681  0.044667     0.010560\n",
              "Fighting      0.230132  0.108000  0.121074     0.035074\n",
              "Misc          0.199078  0.114864  0.076042     0.035693\n",
              "Platform      0.501115  0.232813  0.173945     0.058216\n",
              "Puzzle        0.200861  0.091598  0.099078     0.022213\n",
              "Racing        0.313238  0.202937  0.067937     0.063930\n",
              "Role-Playing  0.184599  0.105401  0.223681     0.030778\n",
              "Shooter       0.363333  0.175481  0.034247     0.059605\n",
              "Simulation    0.204064  0.114539  0.081369     0.032751\n",
              "Sports        0.253999  0.142797  0.076548     0.044013\n",
              "Strategy      0.092735  0.064495  0.079111     0.015767"
            ]
          },
          "metadata": {
            "tags": []
          },
          "execution_count": 12
        }
      ]
    },
    {
      "cell_type": "code",
      "metadata": {
        "colab": {
          "base_uri": "https://localhost:8080/",
          "height": 510
        },
        "id": "NFbcnb5yxPEN",
        "outputId": "43e9ed6d-3fd3-4544-d7aa-5f3e53454e1b"
      },
      "source": [
        "#시각화 그래프 사이즈 조정\n",
        "plt.rcParams[\"figure.figsize\"] = (40,12)\n",
        "\n",
        "#Sales 전체 평균 그래프\n",
        "compare_plot = Sales_Mean.plot(kind='barh')\n",
        "compare_plot.set_xlabel(\"Sales\")\n",
        "compare_plot.set_ylabel(\"Genre\")"
      ],
      "execution_count": null,
      "outputs": [
        {
          "output_type": "execute_result",
          "data": {
            "text/plain": [
              "Text(0, 0.5, 'Genre')"
            ]
          },
          "metadata": {
            "tags": []
          },
          "execution_count": 248
        },
        {
          "output_type": "display_data",
          "data": {
            "image/png": "[encoded data removed]",
            "text/plain": [
              "<Figure size 2880x864 with 1 Axes>"
            ]
          },
          "metadata": {
            "tags": [],
            "needs_background": "light"
          }
        }
      ]
    },
    {
      "cell_type": "markdown",
      "metadata": {
        "id": "yCutoIgtlvmI"
      },
      "source": [
        "2. 연도별 게임(장르)의 트렌드가 있을까 라는 질문에 대답을 하셔야합니다."
      ]
    },
    {
      "cell_type": "code",
      "metadata": {
        "colab": {
          "base_uri": "https://localhost:8080/",
          "height": 200
        },
        "id": "sFgdL9NFmCmo",
        "outputId": "d4b94b0e-7ee1-4f16-879f-ca631bcd5ef2"
      },
      "source": [
        "df2 = df.copy()\n",
        "list_of_my_columns = ['NA_Sales', 'EU_Sales', 'JP_Sales', 'Other_Sales']\n",
        "df2['Total_Sales'] = df[list_of_my_columns].sum(axis=1)\n",
        "df2['Year'] = df2['Year'].astype(int)\n",
        "df2.head()"
      ],
      "execution_count": 17,
      "outputs": [
        {
          "output_type": "execute_result",
          "data": {
            "text/html": [
              "<div>\n",
              "<style scoped>\n",
              "    .dataframe tbody tr th:only-of-type {\n",
              "        vertical-align: middle;\n",
              "    }\n",
              "\n",
              "    .dataframe tbody tr th {\n",
              "        vertical-align: top;\n",
              "    }\n",
              "\n",
              "    .dataframe thead th {\n",
              "        text-align: right;\n",
              "    }\n",
              "</style>\n",
              "<table border=\"1\" class=\"dataframe\">\n",
              "  <thead>\n",
              "    <tr style=\"text-align: right;\">\n",
              "      <th></th>\n",
              "      <th>Name</th>\n",
              "      <th>Publisher</th>\n",
              "      <th>Platform</th>\n",
              "      <th>Year</th>\n",
              "      <th>Genre</th>\n",
              "      <th>NA_Sales</th>\n",
              "      <th>EU_Sales</th>\n",
              "      <th>JP_Sales</th>\n",
              "      <th>Other_Sales</th>\n",
              "      <th>Total_Sales</th>\n",
              "    </tr>\n",
              "  </thead>\n",
              "  <tbody>\n",
              "    <tr>\n",
              "      <th>0</th>\n",
              "      <td>Maze Craze: A Game of Cops 'n Robbers</td>\n",
              "      <td>Atari</td>\n",
              "      <td>2600</td>\n",
              "      <td>1980</td>\n",
              "      <td>Action</td>\n",
              "      <td>0.42</td>\n",
              "      <td>0.02</td>\n",
              "      <td>0.0</td>\n",
              "      <td>0.00</td>\n",
              "      <td>0.44</td>\n",
              "    </tr>\n",
              "    <tr>\n",
              "      <th>1</th>\n",
              "      <td>Sabre Wulf</td>\n",
              "      <td>THQ</td>\n",
              "      <td>GBA</td>\n",
              "      <td>1984</td>\n",
              "      <td>Platform</td>\n",
              "      <td>0.02</td>\n",
              "      <td>0.01</td>\n",
              "      <td>0.0</td>\n",
              "      <td>0.00</td>\n",
              "      <td>0.03</td>\n",
              "    </tr>\n",
              "    <tr>\n",
              "      <th>2</th>\n",
              "      <td>The Golden Compass</td>\n",
              "      <td>Sega</td>\n",
              "      <td>PSP</td>\n",
              "      <td>2007</td>\n",
              "      <td>Action</td>\n",
              "      <td>0.11</td>\n",
              "      <td>0.00</td>\n",
              "      <td>0.0</td>\n",
              "      <td>0.10</td>\n",
              "      <td>0.21</td>\n",
              "    </tr>\n",
              "    <tr>\n",
              "      <th>3</th>\n",
              "      <td>Alone in the Dark: The New Nightmare</td>\n",
              "      <td>Infogrames</td>\n",
              "      <td>PS</td>\n",
              "      <td>2001</td>\n",
              "      <td>Adventure</td>\n",
              "      <td>0.09</td>\n",
              "      <td>0.06</td>\n",
              "      <td>0.0</td>\n",
              "      <td>0.01</td>\n",
              "      <td>0.16</td>\n",
              "    </tr>\n",
              "    <tr>\n",
              "      <th>4</th>\n",
              "      <td>Disney's Cinderella: Magical Dreams</td>\n",
              "      <td>Disney Interactive Studios</td>\n",
              "      <td>GBA</td>\n",
              "      <td>2006</td>\n",
              "      <td>Platform</td>\n",
              "      <td>0.10</td>\n",
              "      <td>0.04</td>\n",
              "      <td>0.0</td>\n",
              "      <td>0.00</td>\n",
              "      <td>0.14</td>\n",
              "    </tr>\n",
              "  </tbody>\n",
              "</table>\n",
              "</div>"
            ],
            "text/plain": [
              "                                    Name  ... Total_Sales\n",
              "0  Maze Craze: A Game of Cops 'n Robbers  ...        0.44\n",
              "1                             Sabre Wulf  ...        0.03\n",
              "2                     The Golden Compass  ...        0.21\n",
              "3   Alone in the Dark: The New Nightmare  ...        0.16\n",
              "4    Disney's Cinderella: Magical Dreams  ...        0.14\n",
              "\n",
              "[5 rows x 10 columns]"
            ]
          },
          "metadata": {
            "tags": []
          },
          "execution_count": 17
        }
      ]
    },
    {
      "cell_type": "code",
      "metadata": {
        "colab": {
          "base_uri": "https://localhost:8080/",
          "height": 200
        },
        "id": "7iDV4GV5ypkR",
        "outputId": "3b6656f3-4c65-42c5-b27b-0b5937e7d33e"
      },
      "source": [
        "cross_df2 = pd.crosstab(df2.Genre, df2.Year)\n",
        "cross_df = cross_df2.T\n",
        "cross_df['Top'] = cross_df.idxmax(axis=1)\n",
        "cross_df['Count'] = cross_df.max(axis=1)\n",
        "cross_df = cross_df.reset_index()\n",
        "cross_df.head()"
      ],
      "execution_count": 18,
      "outputs": [
        {
          "output_type": "execute_result",
          "data": {
            "text/html": [
              "<div>\n",
              "<style scoped>\n",
              "    .dataframe tbody tr th:only-of-type {\n",
              "        vertical-align: middle;\n",
              "    }\n",
              "\n",
              "    .dataframe tbody tr th {\n",
              "        vertical-align: top;\n",
              "    }\n",
              "\n",
              "    .dataframe thead th {\n",
              "        text-align: right;\n",
              "    }\n",
              "</style>\n",
              "<table border=\"1\" class=\"dataframe\">\n",
              "  <thead>\n",
              "    <tr style=\"text-align: right;\">\n",
              "      <th>Genre</th>\n",
              "      <th>Year</th>\n",
              "      <th>Action</th>\n",
              "      <th>Adventure</th>\n",
              "      <th>Fighting</th>\n",
              "      <th>Misc</th>\n",
              "      <th>Platform</th>\n",
              "      <th>Puzzle</th>\n",
              "      <th>Racing</th>\n",
              "      <th>Role-Playing</th>\n",
              "      <th>Shooter</th>\n",
              "      <th>Simulation</th>\n",
              "      <th>Sports</th>\n",
              "      <th>Strategy</th>\n",
              "      <th>Top</th>\n",
              "      <th>Count</th>\n",
              "    </tr>\n",
              "  </thead>\n",
              "  <tbody>\n",
              "    <tr>\n",
              "      <th>0</th>\n",
              "      <td>1977</td>\n",
              "      <td>1</td>\n",
              "      <td>0</td>\n",
              "      <td>0</td>\n",
              "      <td>0</td>\n",
              "      <td>0</td>\n",
              "      <td>0</td>\n",
              "      <td>1</td>\n",
              "      <td>0</td>\n",
              "      <td>1</td>\n",
              "      <td>0</td>\n",
              "      <td>0</td>\n",
              "      <td>0</td>\n",
              "      <td>Action</td>\n",
              "      <td>1</td>\n",
              "    </tr>\n",
              "    <tr>\n",
              "      <th>1</th>\n",
              "      <td>1978</td>\n",
              "      <td>1</td>\n",
              "      <td>0</td>\n",
              "      <td>0</td>\n",
              "      <td>0</td>\n",
              "      <td>0</td>\n",
              "      <td>2</td>\n",
              "      <td>0</td>\n",
              "      <td>0</td>\n",
              "      <td>1</td>\n",
              "      <td>0</td>\n",
              "      <td>1</td>\n",
              "      <td>0</td>\n",
              "      <td>Puzzle</td>\n",
              "      <td>2</td>\n",
              "    </tr>\n",
              "    <tr>\n",
              "      <th>2</th>\n",
              "      <td>1979</td>\n",
              "      <td>1</td>\n",
              "      <td>0</td>\n",
              "      <td>0</td>\n",
              "      <td>0</td>\n",
              "      <td>0</td>\n",
              "      <td>0</td>\n",
              "      <td>0</td>\n",
              "      <td>0</td>\n",
              "      <td>0</td>\n",
              "      <td>0</td>\n",
              "      <td>0</td>\n",
              "      <td>0</td>\n",
              "      <td>Action</td>\n",
              "      <td>1</td>\n",
              "    </tr>\n",
              "    <tr>\n",
              "      <th>3</th>\n",
              "      <td>1980</td>\n",
              "      <td>3</td>\n",
              "      <td>1</td>\n",
              "      <td>0</td>\n",
              "      <td>3</td>\n",
              "      <td>0</td>\n",
              "      <td>0</td>\n",
              "      <td>1</td>\n",
              "      <td>0</td>\n",
              "      <td>0</td>\n",
              "      <td>0</td>\n",
              "      <td>1</td>\n",
              "      <td>0</td>\n",
              "      <td>Action</td>\n",
              "      <td>3</td>\n",
              "    </tr>\n",
              "    <tr>\n",
              "      <th>4</th>\n",
              "      <td>1981</td>\n",
              "      <td>23</td>\n",
              "      <td>0</td>\n",
              "      <td>0</td>\n",
              "      <td>0</td>\n",
              "      <td>2</td>\n",
              "      <td>2</td>\n",
              "      <td>1</td>\n",
              "      <td>0</td>\n",
              "      <td>9</td>\n",
              "      <td>1</td>\n",
              "      <td>4</td>\n",
              "      <td>0</td>\n",
              "      <td>Action</td>\n",
              "      <td>23</td>\n",
              "    </tr>\n",
              "  </tbody>\n",
              "</table>\n",
              "</div>"
            ],
            "text/plain": [
              "Genre  Year  Action  Adventure  Fighting  ...  Sports  Strategy     Top  Count\n",
              "0      1977       1          0         0  ...       0         0  Action      1\n",
              "1      1978       1          0         0  ...       1         0  Puzzle      2\n",
              "2      1979       1          0         0  ...       0         0  Action      1\n",
              "3      1980       3          1         0  ...       1         0  Action      3\n",
              "4      1981      23          0         0  ...       4         0  Action     23\n",
              "\n",
              "[5 rows x 15 columns]"
            ]
          },
          "metadata": {
            "tags": []
          },
          "execution_count": 18
        }
      ]
    },
    {
      "cell_type": "code",
      "metadata": {
        "colab": {
          "base_uri": "https://localhost:8080/"
        },
        "id": "6TctJ1XUc-pY",
        "outputId": "08480fb5-a81f-4407-f79c-acd44100ee6e"
      },
      "source": [
        "from scipy.stats import chi2_contingency\n",
        "\n",
        "obs = pd.crosstab(cross_df['Year'],cross_df['Count'])\n",
        "print(chi2_contingency(obs, correction = False))\n",
        "print(chi2_contingency(obs, correction = True))\n",
        "\n",
        "#귀무가설 : Year & 연도별 Top 장르가 연관이 없다\n",
        "#대립가설 : Year & 연도별 Top 장르가 연관이 없다\n",
        "#신뢰구간 : 95%\n",
        "#pvalue: 0.272로 귀무가설 채택 연관이 없다"
      ],
      "execution_count": 19,
      "outputs": [
        {
          "output_type": "stream",
          "text": [
            "(1290.0, 0.27219402721854785, 1260, array([[0.11627907, 0.02325581, 0.09302326, ..., 0.02325581, 0.02325581,\n",
            "        0.02325581],\n",
            "       [0.11627907, 0.02325581, 0.09302326, ..., 0.02325581, 0.02325581,\n",
            "        0.02325581],\n",
            "       [0.11627907, 0.02325581, 0.09302326, ..., 0.02325581, 0.02325581,\n",
            "        0.02325581],\n",
            "       ...,\n",
            "       [0.11627907, 0.02325581, 0.09302326, ..., 0.02325581, 0.02325581,\n",
            "        0.02325581],\n",
            "       [0.11627907, 0.02325581, 0.09302326, ..., 0.02325581, 0.02325581,\n",
            "        0.02325581],\n",
            "       [0.11627907, 0.02325581, 0.09302326, ..., 0.02325581, 0.02325581,\n",
            "        0.02325581]]))\n",
            "(1290.0, 0.27219402721854785, 1260, array([[0.11627907, 0.02325581, 0.09302326, ..., 0.02325581, 0.02325581,\n",
            "        0.02325581],\n",
            "       [0.11627907, 0.02325581, 0.09302326, ..., 0.02325581, 0.02325581,\n",
            "        0.02325581],\n",
            "       [0.11627907, 0.02325581, 0.09302326, ..., 0.02325581, 0.02325581,\n",
            "        0.02325581],\n",
            "       ...,\n",
            "       [0.11627907, 0.02325581, 0.09302326, ..., 0.02325581, 0.02325581,\n",
            "        0.02325581],\n",
            "       [0.11627907, 0.02325581, 0.09302326, ..., 0.02325581, 0.02325581,\n",
            "        0.02325581],\n",
            "       [0.11627907, 0.02325581, 0.09302326, ..., 0.02325581, 0.02325581,\n",
            "        0.02325581]]))\n"
          ],
          "name": "stdout"
        }
      ]
    },
    {
      "cell_type": "code",
      "metadata": {
        "colab": {
          "base_uri": "https://localhost:8080/",
          "height": 522
        },
        "id": "EwtF_jdoQPHT",
        "outputId": "4063ec44-c2e1-43ab-813e-37937c14ab63"
      },
      "source": [
        "#연도별 출고량에 따른 게임 트렌드\n",
        "import seaborn as sns\n",
        "ax = sns.barplot(x='Year', \n",
        "\n",
        "                  y='Count', \n",
        "\n",
        "                  hue='Top',\n",
        "\n",
        "                  data=cross_df)\n",
        "\n",
        "plt.title('Game Trend with Total Sales from 1997 to 2010', fontsize=20)\n",
        "plt.ylabel('Count', fontsize=14)\n",
        "plt.xlabel('Year', fontsize=14)\n",
        "plt.legend(fontsize=14, loc='best')\n",
        "plt.show()\n"
      ],
      "execution_count": 21,
      "outputs": [
        {
          "output_type": "display_data",
          "data": {
            "image/png": "[encoded data removed]",
            "text/plain": [
              "<Figure size 1440x576 with 1 Axes>"
            ]
          },
          "metadata": {
            "tags": [],
            "needs_background": "light"
          }
        }
      ]
    },
    {
      "cell_type": "markdown",
      "metadata": {
        "id": "Eaazz_kRlx1Q"
      },
      "source": [
        "3. 출고량이 높은 게임에 대한 분석 및 시각화 프로세스"
      ]
    },
    {
      "cell_type": "code",
      "metadata": {
        "colab": {
          "base_uri": "https://localhost:8080/",
          "height": 530
        },
        "id": "B7Yk938knYYf",
        "outputId": "57437f32-5650-4341-bb25-4927644236da"
      },
      "source": [
        "#3.1 플랫폼별 국가 출고량\n",
        "df3 = df2.drop(['Year', 'Total_Sales'], axis=1)\n",
        "df3 = df3.groupby(\"Platform\").sum()\n",
        "year_plot = df3.plot(kind='bar')\n",
        "year_plot.set_xlabel(\"Genre\")\n",
        "year_plot.set_ylabel(\"Sales\")"
      ],
      "execution_count": 22,
      "outputs": [
        {
          "output_type": "execute_result",
          "data": {
            "text/plain": [
              "Text(0, 0.5, 'Sales')"
            ]
          },
          "metadata": {
            "tags": []
          },
          "execution_count": 22
        },
        {
          "output_type": "display_data",
          "data": {
            "image/png": "[encoded data removed]",
            "text/plain": [
              "<Figure size 1440x576 with 1 Axes>"
            ]
          },
          "metadata": {
            "tags": [],
            "needs_background": "light"
          }
        }
      ]
    },
    {
      "cell_type": "code",
      "metadata": {
        "colab": {
          "base_uri": "https://localhost:8080/",
          "height": 230
        },
        "id": "Easc70s8sybi",
        "outputId": "a54ba90c-9cd7-488f-aafe-ef1f3ffe6995"
      },
      "source": [
        "#3.2 플랫폼별 게임 출고량\n",
        "df3 = df2[['Platform', 'Total_Sales']]\n",
        "df3 = df3.groupby(\"Platform\").sum()\n",
        "df3.head()\n"
      ],
      "execution_count": 31,
      "outputs": [
        {
          "output_type": "execute_result",
          "data": {
            "text/html": [
              "<div>\n",
              "<style scoped>\n",
              "    .dataframe tbody tr th:only-of-type {\n",
              "        vertical-align: middle;\n",
              "    }\n",
              "\n",
              "    .dataframe tbody tr th {\n",
              "        vertical-align: top;\n",
              "    }\n",
              "\n",
              "    .dataframe thead th {\n",
              "        text-align: right;\n",
              "    }\n",
              "</style>\n",
              "<table border=\"1\" class=\"dataframe\">\n",
              "  <thead>\n",
              "    <tr style=\"text-align: right;\">\n",
              "      <th></th>\n",
              "      <th>Total_Sales</th>\n",
              "    </tr>\n",
              "    <tr>\n",
              "      <th>Platform</th>\n",
              "      <th></th>\n",
              "    </tr>\n",
              "  </thead>\n",
              "  <tbody>\n",
              "    <tr>\n",
              "      <th>2600</th>\n",
              "      <td>68.40</td>\n",
              "    </tr>\n",
              "    <tr>\n",
              "      <th>3DO</th>\n",
              "      <td>0.10</td>\n",
              "    </tr>\n",
              "    <tr>\n",
              "      <th>3DS</th>\n",
              "      <td>203.30</td>\n",
              "    </tr>\n",
              "    <tr>\n",
              "      <th>DC</th>\n",
              "      <td>13.09</td>\n",
              "    </tr>\n",
              "    <tr>\n",
              "      <th>DS</th>\n",
              "      <td>666.52</td>\n",
              "    </tr>\n",
              "  </tbody>\n",
              "</table>\n",
              "</div>"
            ],
            "text/plain": [
              "          Total_Sales\n",
              "Platform             \n",
              "2600            68.40\n",
              "3DO              0.10\n",
              "3DS            203.30\n",
              "DC              13.09\n",
              "DS             666.52"
            ]
          },
          "metadata": {
            "tags": []
          },
          "execution_count": 31
        }
      ]
    },
    {
      "cell_type": "code",
      "metadata": {
        "colab": {
          "base_uri": "https://localhost:8080/",
          "height": 515
        },
        "id": "-YY5p7qqqjTb",
        "outputId": "f53e5670-7da8-44ca-ee1b-ed7ddc782dc6"
      },
      "source": [
        "year_plot = df3.plot(kind='barh')\n",
        "year_plot.set_xlabel(\"Genre\")\n",
        "year_plot.set_ylabel(\"Sales\")"
      ],
      "execution_count": 32,
      "outputs": [
        {
          "output_type": "execute_result",
          "data": {
            "text/plain": [
              "Text(0, 0.5, 'Sales')"
            ]
          },
          "metadata": {
            "tags": []
          },
          "execution_count": 32
        },
        {
          "output_type": "display_data",
          "data": {
            "image/png": "[encoded data removed]",
            "text/plain": [
              "<Figure size 1440x576 with 1 Axes>"
            ]
          },
          "metadata": {
            "tags": [],
            "needs_background": "light"
          }
        }
      ]
    },
    {
      "cell_type": "code",
      "metadata": {
        "colab": {
          "base_uri": "https://localhost:8080/",
          "height": 408
        },
        "id": "OT-LQf4knVP8",
        "outputId": "fc611a4d-7bcc-47ac-dfb0-460b1ad6c49c"
      },
      "source": [
        "#3.3 게임별 출고량\n",
        "import pandas as pd\n",
        "import numpy as np\n",
        "import seaborn as sns\n",
        "from sklearn.cluster import KMeans \n",
        "from sklearn.preprocessing import StandardScaler \n",
        "from sklearn.decomposition import PCA\n",
        "import matplotlib.pyplot as plt\n",
        "\n",
        "df_sort = df2.sort_values(['Total_Sales'], ascending=False)\n",
        "df_sort.iloc[:100]"
      ],
      "execution_count": 105,
      "outputs": [
        {
          "output_type": "execute_result",
          "data": {
            "text/html": [
              "<div>\n",
              "<style scoped>\n",
              "    .dataframe tbody tr th:only-of-type {\n",
              "        vertical-align: middle;\n",
              "    }\n",
              "\n",
              "    .dataframe tbody tr th {\n",
              "        vertical-align: top;\n",
              "    }\n",
              "\n",
              "    .dataframe thead th {\n",
              "        text-align: right;\n",
              "    }\n",
              "</style>\n",
              "<table border=\"1\" class=\"dataframe\">\n",
              "  <thead>\n",
              "    <tr style=\"text-align: right;\">\n",
              "      <th></th>\n",
              "      <th>Name</th>\n",
              "      <th>Publisher</th>\n",
              "      <th>Platform</th>\n",
              "      <th>Year</th>\n",
              "      <th>Genre</th>\n",
              "      <th>NA_Sales</th>\n",
              "      <th>EU_Sales</th>\n",
              "      <th>JP_Sales</th>\n",
              "      <th>Other_Sales</th>\n",
              "      <th>Total_Sales</th>\n",
              "    </tr>\n",
              "  </thead>\n",
              "  <tbody>\n",
              "    <tr>\n",
              "      <th>9585</th>\n",
              "      <td>Wii Sports</td>\n",
              "      <td>Nintendo</td>\n",
              "      <td>Wii</td>\n",
              "      <td>2006</td>\n",
              "      <td>Sports</td>\n",
              "      <td>41.49</td>\n",
              "      <td>29.02</td>\n",
              "      <td>3.77</td>\n",
              "      <td>8.46</td>\n",
              "      <td>82.74</td>\n",
              "    </tr>\n",
              "    <tr>\n",
              "      <th>7868</th>\n",
              "      <td>Mario Kart Wii</td>\n",
              "      <td>Nintendo</td>\n",
              "      <td>Wii</td>\n",
              "      <td>2008</td>\n",
              "      <td>Racing</td>\n",
              "      <td>15.85</td>\n",
              "      <td>12.88</td>\n",
              "      <td>3.79</td>\n",
              "      <td>3.31</td>\n",
              "      <td>35.83</td>\n",
              "    </tr>\n",
              "    <tr>\n",
              "      <th>5657</th>\n",
              "      <td>Wii Sports Resort</td>\n",
              "      <td>Nintendo</td>\n",
              "      <td>Wii</td>\n",
              "      <td>2009</td>\n",
              "      <td>Sports</td>\n",
              "      <td>15.75</td>\n",
              "      <td>11.01</td>\n",
              "      <td>3.28</td>\n",
              "      <td>2.96</td>\n",
              "      <td>33.00</td>\n",
              "    </tr>\n",
              "    <tr>\n",
              "      <th>15655</th>\n",
              "      <td>Pokemon Red/Pokemon Blue</td>\n",
              "      <td>Nintendo</td>\n",
              "      <td>GB</td>\n",
              "      <td>1996</td>\n",
              "      <td>Role-Playing</td>\n",
              "      <td>11.27</td>\n",
              "      <td>8.89</td>\n",
              "      <td>10.22</td>\n",
              "      <td>1.00</td>\n",
              "      <td>31.38</td>\n",
              "    </tr>\n",
              "    <tr>\n",
              "      <th>16295</th>\n",
              "      <td>Tetris</td>\n",
              "      <td>Nintendo</td>\n",
              "      <td>GB</td>\n",
              "      <td>1989</td>\n",
              "      <td>Puzzle</td>\n",
              "      <td>23.20</td>\n",
              "      <td>2.26</td>\n",
              "      <td>4.22</td>\n",
              "      <td>0.58</td>\n",
              "      <td>30.26</td>\n",
              "    </tr>\n",
              "    <tr>\n",
              "      <th>...</th>\n",
              "      <td>...</td>\n",
              "      <td>...</td>\n",
              "      <td>...</td>\n",
              "      <td>...</td>\n",
              "      <td>...</td>\n",
              "      <td>...</td>\n",
              "      <td>...</td>\n",
              "      <td>...</td>\n",
              "      <td>...</td>\n",
              "      <td>...</td>\n",
              "    </tr>\n",
              "    <tr>\n",
              "      <th>7161</th>\n",
              "      <td>Monster Hunter Freedom Unite</td>\n",
              "      <td>Capcom</td>\n",
              "      <td>PSP</td>\n",
              "      <td>2008</td>\n",
              "      <td>Role-Playing</td>\n",
              "      <td>0.47</td>\n",
              "      <td>0.57</td>\n",
              "      <td>4.13</td>\n",
              "      <td>0.34</td>\n",
              "      <td>5.51</td>\n",
              "    </tr>\n",
              "    <tr>\n",
              "      <th>13742</th>\n",
              "      <td>Super Mario Advance</td>\n",
              "      <td>Nintendo</td>\n",
              "      <td>GBA</td>\n",
              "      <td>2001</td>\n",
              "      <td>Platform</td>\n",
              "      <td>3.14</td>\n",
              "      <td>1.24</td>\n",
              "      <td>0.91</td>\n",
              "      <td>0.20</td>\n",
              "      <td>5.49</td>\n",
              "    </tr>\n",
              "    <tr>\n",
              "      <th>14169</th>\n",
              "      <td>Mario Kart: Super Circuit</td>\n",
              "      <td>Nintendo</td>\n",
              "      <td>GBA</td>\n",
              "      <td>2001</td>\n",
              "      <td>Racing</td>\n",
              "      <td>2.62</td>\n",
              "      <td>1.64</td>\n",
              "      <td>0.99</td>\n",
              "      <td>0.23</td>\n",
              "      <td>5.48</td>\n",
              "    </tr>\n",
              "    <tr>\n",
              "      <th>14132</th>\n",
              "      <td>Super Mario World</td>\n",
              "      <td>Nintendo</td>\n",
              "      <td>GBA</td>\n",
              "      <td>2001</td>\n",
              "      <td>Platform</td>\n",
              "      <td>3.21</td>\n",
              "      <td>1.11</td>\n",
              "      <td>0.95</td>\n",
              "      <td>0.20</td>\n",
              "      <td>5.47</td>\n",
              "    </tr>\n",
              "    <tr>\n",
              "      <th>14735</th>\n",
              "      <td>Pokemon Stadium</td>\n",
              "      <td>Nintendo</td>\n",
              "      <td>N64</td>\n",
              "      <td>1999</td>\n",
              "      <td>Strategy</td>\n",
              "      <td>3.18</td>\n",
              "      <td>1.24</td>\n",
              "      <td>0.94</td>\n",
              "      <td>0.09</td>\n",
              "      <td>5.45</td>\n",
              "    </tr>\n",
              "  </tbody>\n",
              "</table>\n",
              "<p>100 rows × 10 columns</p>\n",
              "</div>"
            ],
            "text/plain": [
              "                               Name Publisher  ... Other_Sales  Total_Sales\n",
              "9585                     Wii Sports  Nintendo  ...        8.46        82.74\n",
              "7868                 Mario Kart Wii  Nintendo  ...        3.31        35.83\n",
              "5657              Wii Sports Resort  Nintendo  ...        2.96        33.00\n",
              "15655      Pokemon Red/Pokemon Blue  Nintendo  ...        1.00        31.38\n",
              "16295                        Tetris  Nintendo  ...        0.58        30.26\n",
              "...                             ...       ...  ...         ...          ...\n",
              "7161   Monster Hunter Freedom Unite    Capcom  ...        0.34         5.51\n",
              "13742           Super Mario Advance  Nintendo  ...        0.20         5.49\n",
              "14169     Mario Kart: Super Circuit  Nintendo  ...        0.23         5.48\n",
              "14132             Super Mario World  Nintendo  ...        0.20         5.47\n",
              "14735               Pokemon Stadium  Nintendo  ...        0.09         5.45\n",
              "\n",
              "[100 rows x 10 columns]"
            ]
          },
          "metadata": {
            "tags": []
          },
          "execution_count": 105
        }
      ]
    },
    {
      "cell_type": "code",
      "metadata": {
        "colab": {
          "base_uri": "https://localhost:8080/"
        },
        "id": "61p8whPw90Um",
        "outputId": "ca385206-6fe5-4d6f-e2b3-ffcf8feac48b"
      },
      "source": [
        "######## 개인 추가 코드\n",
        "\n",
        "df1_sort = df2.drop((['Total_Sales']), axis =1)\n",
        "#Label로 지정\n",
        "publisher_label = df1_sort['Publisher']\n",
        "platform_label = df1_sort['Platform']\n",
        "genre_label = df1_sort['Genre']\n",
        "\n",
        "#숫자 데이터\n",
        "number = df1_sort[['NA_Sales','EU_Sales','JP_Sales','Other_Sales']]\n",
        "\n",
        "#정규화\n",
        "scaler = StandardScaler()\n",
        "scaler.fit(number)\n",
        "number = scaler.transform(number)\n",
        "number\n"
      ],
      "execution_count": 103,
      "outputs": [
        {
          "output_type": "execute_result",
          "data": {
            "text/plain": [
              "array([[ 0.23660464, -0.19605985, -0.27746015, -0.22029537],\n",
              "       [-0.25136006, -0.21537173, -0.27746015, -0.22029537],\n",
              "       [-0.141568  , -0.23468361, -0.27746015,  0.38011595],\n",
              "       ...,\n",
              "       [-0.00737771, -0.21537173, -0.27746015, -0.22029537],\n",
              "       [ 0.02921964, -0.19605985, -0.27746015, -0.22029537],\n",
              "       [ 0.11461346, -0.19605985, -0.27746015, -0.22029537]])"
            ]
          },
          "metadata": {
            "tags": []
          },
          "execution_count": 103
        }
      ]
    },
    {
      "cell_type": "code",
      "metadata": {
        "colab": {
          "base_uri": "https://localhost:8080/",
          "height": 512
        },
        "id": "5rdhaihR_KZA",
        "outputId": "2bfddbb4-1b74-4d7c-8cb7-c92b3e618f64"
      },
      "source": [
        "#Elbow methods\n",
        "sum_of_sqd = []\n",
        "K = range(1, 15)\n",
        "for k in K:\n",
        "    km = KMeans(n_clusters = k)\n",
        "    km = km.fit(number)\n",
        "    sum_of_sqd.append(km.inertia_)\n",
        "\n",
        "plt.plot(K, sum_of_sqd, 'bx-')\n",
        "plt.xlabel('k')\n",
        "plt.ylabel('Sum_of_squared_distances')\n",
        "plt.title('Elbow Method For Optimal k')\n",
        "plt.show()"
      ],
      "execution_count": 104,
      "outputs": [
        {
          "output_type": "display_data",
          "data": {
            "image/png": "[encoded data removed]",
            "text/plain": [
              "<Figure size 1440x576 with 1 Axes>"
            ]
          },
          "metadata": {
            "tags": [],
            "needs_background": "light"
          }
        }
      ]
    },
    {
      "cell_type": "code",
      "metadata": {
        "colab": {
          "base_uri": "https://localhost:8080/"
        },
        "id": "pt1CE6Nv_SmU",
        "outputId": "756a91d6-31cc-4c19-960c-8f13440abd79"
      },
      "source": [
        "k2_means = KMeans(n_clusters=2, random_state=42)\n",
        "k2_means.fit(number)\n",
        "clusters = k2_means.labels_\n",
        "series = pd.Series(clusters)\n",
        "series"
      ],
      "execution_count": 85,
      "outputs": [
        {
          "output_type": "execute_result",
          "data": {
            "text/plain": [
              "0     0\n",
              "1     0\n",
              "2     0\n",
              "3     0\n",
              "4     1\n",
              "5     0\n",
              "6     0\n",
              "7     0\n",
              "8     0\n",
              "9     0\n",
              "10    0\n",
              "11    0\n",
              "12    0\n",
              "13    0\n",
              "14    0\n",
              "15    1\n",
              "16    1\n",
              "17    1\n",
              "18    0\n",
              "19    0\n",
              "20    0\n",
              "21    0\n",
              "22    0\n",
              "23    0\n",
              "24    0\n",
              "25    0\n",
              "26    1\n",
              "27    0\n",
              "28    1\n",
              "29    0\n",
              "30    0\n",
              "dtype: int32"
            ]
          },
          "metadata": {
            "tags": []
          },
          "execution_count": 85
        }
      ]
    },
    {
      "cell_type": "code",
      "metadata": {
        "colab": {
          "base_uri": "https://localhost:8080/",
          "height": 986
        },
        "id": "bKVC8J10_e5b",
        "outputId": "6e6ec850-87c8-4570-b988-f3f4106d106e"
      },
      "source": [
        "pca = PCA(n_components = 2)\n",
        "pc = pca.fit_transform(number)\n",
        "final_df = pd.DataFrame(data = pc, columns = ['PC1','PC2'])\n",
        "final_df['Cluster'] = series\n",
        "final_df"
      ],
      "execution_count": 86,
      "outputs": [
        {
          "output_type": "execute_result",
          "data": {
            "text/html": [
              "<div>\n",
              "<style scoped>\n",
              "    .dataframe tbody tr th:only-of-type {\n",
              "        vertical-align: middle;\n",
              "    }\n",
              "\n",
              "    .dataframe tbody tr th {\n",
              "        vertical-align: top;\n",
              "    }\n",
              "\n",
              "    .dataframe thead th {\n",
              "        text-align: right;\n",
              "    }\n",
              "</style>\n",
              "<table border=\"1\" class=\"dataframe\">\n",
              "  <thead>\n",
              "    <tr style=\"text-align: right;\">\n",
              "      <th></th>\n",
              "      <th>PC1</th>\n",
              "      <th>PC2</th>\n",
              "      <th>Cluster</th>\n",
              "    </tr>\n",
              "  </thead>\n",
              "  <tbody>\n",
              "    <tr>\n",
              "      <th>0</th>\n",
              "      <td>-1.135456</td>\n",
              "      <td>-0.291980</td>\n",
              "      <td>0</td>\n",
              "    </tr>\n",
              "    <tr>\n",
              "      <th>1</th>\n",
              "      <td>-1.520458</td>\n",
              "      <td>-0.161215</td>\n",
              "      <td>0</td>\n",
              "    </tr>\n",
              "    <tr>\n",
              "      <th>2</th>\n",
              "      <td>0.350400</td>\n",
              "      <td>1.209982</td>\n",
              "      <td>0</td>\n",
              "    </tr>\n",
              "    <tr>\n",
              "      <th>3</th>\n",
              "      <td>-1.407579</td>\n",
              "      <td>-0.022066</td>\n",
              "      <td>0</td>\n",
              "    </tr>\n",
              "    <tr>\n",
              "      <th>4</th>\n",
              "      <td>4.351815</td>\n",
              "      <td>1.321377</td>\n",
              "      <td>1</td>\n",
              "    </tr>\n",
              "    <tr>\n",
              "      <th>5</th>\n",
              "      <td>0.452804</td>\n",
              "      <td>1.001233</td>\n",
              "      <td>0</td>\n",
              "    </tr>\n",
              "    <tr>\n",
              "      <th>6</th>\n",
              "      <td>0.413142</td>\n",
              "      <td>0.236805</td>\n",
              "      <td>0</td>\n",
              "    </tr>\n",
              "    <tr>\n",
              "      <th>7</th>\n",
              "      <td>-0.631886</td>\n",
              "      <td>-0.062393</td>\n",
              "      <td>0</td>\n",
              "    </tr>\n",
              "    <tr>\n",
              "      <th>8</th>\n",
              "      <td>-1.401224</td>\n",
              "      <td>-0.161264</td>\n",
              "      <td>0</td>\n",
              "    </tr>\n",
              "    <tr>\n",
              "      <th>9</th>\n",
              "      <td>-1.521071</td>\n",
              "      <td>-0.162485</td>\n",
              "      <td>0</td>\n",
              "    </tr>\n",
              "    <tr>\n",
              "      <th>10</th>\n",
              "      <td>-0.270472</td>\n",
              "      <td>0.078169</td>\n",
              "      <td>0</td>\n",
              "    </tr>\n",
              "    <tr>\n",
              "      <th>11</th>\n",
              "      <td>-0.240612</td>\n",
              "      <td>1.005959</td>\n",
              "      <td>0</td>\n",
              "    </tr>\n",
              "    <tr>\n",
              "      <th>12</th>\n",
              "      <td>-1.510135</td>\n",
              "      <td>-0.139838</td>\n",
              "      <td>0</td>\n",
              "    </tr>\n",
              "    <tr>\n",
              "      <th>13</th>\n",
              "      <td>-0.131988</td>\n",
              "      <td>-0.837584</td>\n",
              "      <td>0</td>\n",
              "    </tr>\n",
              "    <tr>\n",
              "      <th>14</th>\n",
              "      <td>-1.521173</td>\n",
              "      <td>-0.162696</td>\n",
              "      <td>0</td>\n",
              "    </tr>\n",
              "    <tr>\n",
              "      <th>15</th>\n",
              "      <td>3.387198</td>\n",
              "      <td>0.516599</td>\n",
              "      <td>1</td>\n",
              "    </tr>\n",
              "    <tr>\n",
              "      <th>16</th>\n",
              "      <td>4.562002</td>\n",
              "      <td>-0.394251</td>\n",
              "      <td>1</td>\n",
              "    </tr>\n",
              "    <tr>\n",
              "      <th>17</th>\n",
              "      <td>2.009342</td>\n",
              "      <td>-0.881980</td>\n",
              "      <td>1</td>\n",
              "    </tr>\n",
              "    <tr>\n",
              "      <th>18</th>\n",
              "      <td>-0.360964</td>\n",
              "      <td>-0.590836</td>\n",
              "      <td>0</td>\n",
              "    </tr>\n",
              "    <tr>\n",
              "      <th>19</th>\n",
              "      <td>0.373833</td>\n",
              "      <td>0.565625</td>\n",
              "      <td>0</td>\n",
              "    </tr>\n",
              "    <tr>\n",
              "      <th>20</th>\n",
              "      <td>-1.115274</td>\n",
              "      <td>-0.034049</td>\n",
              "      <td>0</td>\n",
              "    </tr>\n",
              "    <tr>\n",
              "      <th>21</th>\n",
              "      <td>-1.253263</td>\n",
              "      <td>0.369972</td>\n",
              "      <td>0</td>\n",
              "    </tr>\n",
              "    <tr>\n",
              "      <th>22</th>\n",
              "      <td>-1.507059</td>\n",
              "      <td>-0.157781</td>\n",
              "      <td>0</td>\n",
              "    </tr>\n",
              "    <tr>\n",
              "      <th>23</th>\n",
              "      <td>-0.288614</td>\n",
              "      <td>1.573940</td>\n",
              "      <td>0</td>\n",
              "    </tr>\n",
              "    <tr>\n",
              "      <th>24</th>\n",
              "      <td>-1.519844</td>\n",
              "      <td>-0.159945</td>\n",
              "      <td>0</td>\n",
              "    </tr>\n",
              "    <tr>\n",
              "      <th>25</th>\n",
              "      <td>-1.506967</td>\n",
              "      <td>-0.133276</td>\n",
              "      <td>0</td>\n",
              "    </tr>\n",
              "    <tr>\n",
              "      <th>26</th>\n",
              "      <td>4.163397</td>\n",
              "      <td>-1.228132</td>\n",
              "      <td>1</td>\n",
              "    </tr>\n",
              "    <tr>\n",
              "      <th>27</th>\n",
              "      <td>-0.968265</td>\n",
              "      <td>-0.112089</td>\n",
              "      <td>0</td>\n",
              "    </tr>\n",
              "    <tr>\n",
              "      <th>28</th>\n",
              "      <td>1.607806</td>\n",
              "      <td>-1.398891</td>\n",
              "      <td>1</td>\n",
              "    </tr>\n",
              "    <tr>\n",
              "      <th>29</th>\n",
              "      <td>-0.690746</td>\n",
              "      <td>-0.467014</td>\n",
              "      <td>0</td>\n",
              "    </tr>\n",
              "    <tr>\n",
              "      <th>30</th>\n",
              "      <td>-1.168691</td>\n",
              "      <td>-0.319895</td>\n",
              "      <td>0</td>\n",
              "    </tr>\n",
              "  </tbody>\n",
              "</table>\n",
              "</div>"
            ],
            "text/plain": [
              "         PC1       PC2  Cluster\n",
              "0  -1.135456 -0.291980        0\n",
              "1  -1.520458 -0.161215        0\n",
              "2   0.350400  1.209982        0\n",
              "3  -1.407579 -0.022066        0\n",
              "4   4.351815  1.321377        1\n",
              "5   0.452804  1.001233        0\n",
              "6   0.413142  0.236805        0\n",
              "7  -0.631886 -0.062393        0\n",
              "8  -1.401224 -0.161264        0\n",
              "9  -1.521071 -0.162485        0\n",
              "10 -0.270472  0.078169        0\n",
              "11 -0.240612  1.005959        0\n",
              "12 -1.510135 -0.139838        0\n",
              "13 -0.131988 -0.837584        0\n",
              "14 -1.521173 -0.162696        0\n",
              "15  3.387198  0.516599        1\n",
              "16  4.562002 -0.394251        1\n",
              "17  2.009342 -0.881980        1\n",
              "18 -0.360964 -0.590836        0\n",
              "19  0.373833  0.565625        0\n",
              "20 -1.115274 -0.034049        0\n",
              "21 -1.253263  0.369972        0\n",
              "22 -1.507059 -0.157781        0\n",
              "23 -0.288614  1.573940        0\n",
              "24 -1.519844 -0.159945        0\n",
              "25 -1.506967 -0.133276        0\n",
              "26  4.163397 -1.228132        1\n",
              "27 -0.968265 -0.112089        0\n",
              "28  1.607806 -1.398891        1\n",
              "29 -0.690746 -0.467014        0\n",
              "30 -1.168691 -0.319895        0"
            ]
          },
          "metadata": {
            "tags": []
          },
          "execution_count": 86
        }
      ]
    },
    {
      "cell_type": "code",
      "metadata": {
        "colab": {
          "base_uri": "https://localhost:8080/",
          "height": 986
        },
        "id": "k7HcSDfc_q4V",
        "outputId": "b29f6a7b-1e72-4844-9915-741b486a56df"
      },
      "source": [
        "label_df = pd.DataFrame(data = pc, columns = ['PC1', 'PC2'])\n",
        "label_df['Publisher'] = pd.Series(publisher_label)\n",
        "label_df"
      ],
      "execution_count": 90,
      "outputs": [
        {
          "output_type": "execute_result",
          "data": {
            "text/html": [
              "<div>\n",
              "<style scoped>\n",
              "    .dataframe tbody tr th:only-of-type {\n",
              "        vertical-align: middle;\n",
              "    }\n",
              "\n",
              "    .dataframe tbody tr th {\n",
              "        vertical-align: top;\n",
              "    }\n",
              "\n",
              "    .dataframe thead th {\n",
              "        text-align: right;\n",
              "    }\n",
              "</style>\n",
              "<table border=\"1\" class=\"dataframe\">\n",
              "  <thead>\n",
              "    <tr style=\"text-align: right;\">\n",
              "      <th></th>\n",
              "      <th>PC1</th>\n",
              "      <th>PC2</th>\n",
              "      <th>Publisher</th>\n",
              "    </tr>\n",
              "  </thead>\n",
              "  <tbody>\n",
              "    <tr>\n",
              "      <th>0</th>\n",
              "      <td>-1.135456</td>\n",
              "      <td>-0.291980</td>\n",
              "      <td>Atari</td>\n",
              "    </tr>\n",
              "    <tr>\n",
              "      <th>1</th>\n",
              "      <td>-1.520458</td>\n",
              "      <td>-0.161215</td>\n",
              "      <td>THQ</td>\n",
              "    </tr>\n",
              "    <tr>\n",
              "      <th>2</th>\n",
              "      <td>0.350400</td>\n",
              "      <td>1.209982</td>\n",
              "      <td>Sega</td>\n",
              "    </tr>\n",
              "    <tr>\n",
              "      <th>3</th>\n",
              "      <td>-1.407579</td>\n",
              "      <td>-0.022066</td>\n",
              "      <td>Infogrames</td>\n",
              "    </tr>\n",
              "    <tr>\n",
              "      <th>4</th>\n",
              "      <td>4.351815</td>\n",
              "      <td>1.321377</td>\n",
              "      <td>Disney Interactive Studios</td>\n",
              "    </tr>\n",
              "    <tr>\n",
              "      <th>5</th>\n",
              "      <td>0.452804</td>\n",
              "      <td>1.001233</td>\n",
              "      <td>NaN</td>\n",
              "    </tr>\n",
              "    <tr>\n",
              "      <th>6</th>\n",
              "      <td>0.413142</td>\n",
              "      <td>0.236805</td>\n",
              "      <td>Nintendo</td>\n",
              "    </tr>\n",
              "    <tr>\n",
              "      <th>7</th>\n",
              "      <td>-0.631886</td>\n",
              "      <td>-0.062393</td>\n",
              "      <td>Unknown</td>\n",
              "    </tr>\n",
              "    <tr>\n",
              "      <th>8</th>\n",
              "      <td>-1.401224</td>\n",
              "      <td>-0.161264</td>\n",
              "      <td>Empire Interactive</td>\n",
              "    </tr>\n",
              "    <tr>\n",
              "      <th>9</th>\n",
              "      <td>-1.521071</td>\n",
              "      <td>-0.162485</td>\n",
              "      <td>Unknown</td>\n",
              "    </tr>\n",
              "    <tr>\n",
              "      <th>10</th>\n",
              "      <td>-0.270472</td>\n",
              "      <td>0.078169</td>\n",
              "      <td>NaN</td>\n",
              "    </tr>\n",
              "    <tr>\n",
              "      <th>11</th>\n",
              "      <td>-0.240612</td>\n",
              "      <td>1.005959</td>\n",
              "      <td>Nintendo</td>\n",
              "    </tr>\n",
              "    <tr>\n",
              "      <th>12</th>\n",
              "      <td>-1.510135</td>\n",
              "      <td>-0.139838</td>\n",
              "      <td>Sega</td>\n",
              "    </tr>\n",
              "    <tr>\n",
              "      <th>13</th>\n",
              "      <td>-0.131988</td>\n",
              "      <td>-0.837584</td>\n",
              "      <td>Disney Interactive Studios</td>\n",
              "    </tr>\n",
              "    <tr>\n",
              "      <th>14</th>\n",
              "      <td>-1.521173</td>\n",
              "      <td>-0.162696</td>\n",
              "      <td>Warner Bros. Interactive Entertainment</td>\n",
              "    </tr>\n",
              "    <tr>\n",
              "      <th>15</th>\n",
              "      <td>3.387198</td>\n",
              "      <td>0.516599</td>\n",
              "      <td>Unknown</td>\n",
              "    </tr>\n",
              "    <tr>\n",
              "      <th>16</th>\n",
              "      <td>4.562002</td>\n",
              "      <td>-0.394251</td>\n",
              "      <td>NaN</td>\n",
              "    </tr>\n",
              "    <tr>\n",
              "      <th>17</th>\n",
              "      <td>2.009342</td>\n",
              "      <td>-0.881980</td>\n",
              "      <td>NaN</td>\n",
              "    </tr>\n",
              "    <tr>\n",
              "      <th>18</th>\n",
              "      <td>-0.360964</td>\n",
              "      <td>-0.590836</td>\n",
              "      <td>Unknown</td>\n",
              "    </tr>\n",
              "    <tr>\n",
              "      <th>19</th>\n",
              "      <td>0.373833</td>\n",
              "      <td>0.565625</td>\n",
              "      <td>NaN</td>\n",
              "    </tr>\n",
              "    <tr>\n",
              "      <th>20</th>\n",
              "      <td>-1.115274</td>\n",
              "      <td>-0.034049</td>\n",
              "      <td>Konami Digital Entertainment</td>\n",
              "    </tr>\n",
              "    <tr>\n",
              "      <th>21</th>\n",
              "      <td>-1.253263</td>\n",
              "      <td>0.369972</td>\n",
              "      <td>Unknown</td>\n",
              "    </tr>\n",
              "    <tr>\n",
              "      <th>22</th>\n",
              "      <td>-1.507059</td>\n",
              "      <td>-0.157781</td>\n",
              "      <td>Unknown</td>\n",
              "    </tr>\n",
              "    <tr>\n",
              "      <th>23</th>\n",
              "      <td>-0.288614</td>\n",
              "      <td>1.573940</td>\n",
              "      <td>Black Bean Games</td>\n",
              "    </tr>\n",
              "    <tr>\n",
              "      <th>24</th>\n",
              "      <td>-1.519844</td>\n",
              "      <td>-0.159945</td>\n",
              "      <td>Eidos Interactive</td>\n",
              "    </tr>\n",
              "    <tr>\n",
              "      <th>25</th>\n",
              "      <td>-1.506967</td>\n",
              "      <td>-0.133276</td>\n",
              "      <td>NaN</td>\n",
              "    </tr>\n",
              "    <tr>\n",
              "      <th>26</th>\n",
              "      <td>4.163397</td>\n",
              "      <td>-1.228132</td>\n",
              "      <td>Unknown</td>\n",
              "    </tr>\n",
              "    <tr>\n",
              "      <th>27</th>\n",
              "      <td>-0.968265</td>\n",
              "      <td>-0.112089</td>\n",
              "      <td>MTV Games</td>\n",
              "    </tr>\n",
              "    <tr>\n",
              "      <th>28</th>\n",
              "      <td>1.607806</td>\n",
              "      <td>-1.398891</td>\n",
              "      <td>Atari</td>\n",
              "    </tr>\n",
              "    <tr>\n",
              "      <th>29</th>\n",
              "      <td>-0.690746</td>\n",
              "      <td>-0.467014</td>\n",
              "      <td>Unknown</td>\n",
              "    </tr>\n",
              "    <tr>\n",
              "      <th>30</th>\n",
              "      <td>-1.168691</td>\n",
              "      <td>-0.319895</td>\n",
              "      <td>Unknown</td>\n",
              "    </tr>\n",
              "  </tbody>\n",
              "</table>\n",
              "</div>"
            ],
            "text/plain": [
              "         PC1       PC2                               Publisher\n",
              "0  -1.135456 -0.291980                                   Atari\n",
              "1  -1.520458 -0.161215                                     THQ\n",
              "2   0.350400  1.209982                                    Sega\n",
              "3  -1.407579 -0.022066                              Infogrames\n",
              "4   4.351815  1.321377              Disney Interactive Studios\n",
              "5   0.452804  1.001233                                     NaN\n",
              "6   0.413142  0.236805                                Nintendo\n",
              "7  -0.631886 -0.062393                                 Unknown\n",
              "8  -1.401224 -0.161264                      Empire Interactive\n",
              "9  -1.521071 -0.162485                                 Unknown\n",
              "10 -0.270472  0.078169                                     NaN\n",
              "11 -0.240612  1.005959                                Nintendo\n",
              "12 -1.510135 -0.139838                                    Sega\n",
              "13 -0.131988 -0.837584              Disney Interactive Studios\n",
              "14 -1.521173 -0.162696  Warner Bros. Interactive Entertainment\n",
              "15  3.387198  0.516599                                 Unknown\n",
              "16  4.562002 -0.394251                                     NaN\n",
              "17  2.009342 -0.881980                                     NaN\n",
              "18 -0.360964 -0.590836                                 Unknown\n",
              "19  0.373833  0.565625                                     NaN\n",
              "20 -1.115274 -0.034049            Konami Digital Entertainment\n",
              "21 -1.253263  0.369972                                 Unknown\n",
              "22 -1.507059 -0.157781                                 Unknown\n",
              "23 -0.288614  1.573940                        Black Bean Games\n",
              "24 -1.519844 -0.159945                       Eidos Interactive\n",
              "25 -1.506967 -0.133276                                     NaN\n",
              "26  4.163397 -1.228132                                 Unknown\n",
              "27 -0.968265 -0.112089                               MTV Games\n",
              "28  1.607806 -1.398891                                   Atari\n",
              "29 -0.690746 -0.467014                                 Unknown\n",
              "30 -1.168691 -0.319895                                 Unknown"
            ]
          },
          "metadata": {
            "tags": []
          },
          "execution_count": 90
        }
      ]
    },
    {
      "cell_type": "code",
      "metadata": {
        "colab": {
          "base_uri": "https://localhost:8080/",
          "height": 512
        },
        "id": "s-EK3Nxm_orq",
        "outputId": "317c9595-fafa-49f6-eb80-9ac41cdf2f64"
      },
      "source": [
        "sns.scatterplot(data = label_df ,x='PC1',y='PC2', hue='Publisher')\n",
        "plt.title('Diagnosis Labeled')\n",
        "plt.show()"
      ],
      "execution_count": 91,
      "outputs": [
        {
          "output_type": "display_data",
          "data": {
            "image/png": "[encoded data removed]",
            "text/plain": [
              "<Figure size 1440x576 with 1 Axes>"
            ]
          },
          "metadata": {
            "tags": [],
            "needs_background": "light"
          }
        }
      ]
    }
  ]
}